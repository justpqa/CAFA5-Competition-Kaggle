{
 "cells": [
  {
   "cell_type": "code",
   "execution_count": 1,
   "id": "e988f7a2",
   "metadata": {
    "execution": {
     "iopub.execute_input": "2023-05-09T02:37:35.249982Z",
     "iopub.status.busy": "2023-05-09T02:37:35.249602Z",
     "iopub.status.idle": "2023-05-09T02:37:39.680400Z",
     "shell.execute_reply": "2023-05-09T02:37:39.679556Z"
    },
    "id": "kTpsbvQxqHKU",
    "papermill": {
     "duration": 4.452384,
     "end_time": "2023-05-09T02:37:39.683244",
     "exception": false,
     "start_time": "2023-05-09T02:37:35.230860",
     "status": "completed"
    },
    "tags": []
   },
   "outputs": [],
   "source": [
    "import numpy as np\n",
    "import pandas as pd\n",
    "from tqdm import tqdm\n",
    "import networkx\n",
    "import h5py\n",
    "# import obonet\n",
    "from Bio import SeqIO\n",
    "import re\n",
    "from Bio.SeqUtils.ProtParam import ProteinAnalysis\n",
    "import gc\n",
    "import pickle\n",
    "import psutil\n",
    "import torch\n",
    "import joblib\n",
    "#from transformers import T5EncoderModel, T5Tokenizer\n",
    "# from tape import ProteinBertModel, UniRepModel, TAPETokenizer"
   ]
  },
  {
   "cell_type": "markdown",
   "id": "5062e326",
   "metadata": {
    "id": "HpwuipEprieU",
    "papermill": {
     "duration": 0.016212,
     "end_time": "2023-05-09T02:37:39.722006",
     "exception": false,
     "start_time": "2023-05-09T02:37:39.705794",
     "status": "completed"
    },
    "tags": []
   },
   "source": [
    "#### Getting the protein sequence from fasta files"
   ]
  },
  {
   "cell_type": "code",
   "execution_count": 2,
   "id": "cf474b8b",
   "metadata": {
    "execution": {
     "iopub.execute_input": "2023-05-09T02:37:39.758330Z",
     "iopub.status.busy": "2023-05-09T02:37:39.757079Z",
     "iopub.status.idle": "2023-05-09T02:37:41.968234Z",
     "shell.execute_reply": "2023-05-09T02:37:41.967177Z"
    },
    "id": "4Vhg_pREqHKZ",
    "outputId": "00643822-5698-4750-a12a-4d465845d52d",
    "papermill": {
     "duration": 2.231851,
     "end_time": "2023-05-09T02:37:41.970689",
     "exception": false,
     "start_time": "2023-05-09T02:37:39.738838",
     "status": "completed"
    },
    "tags": []
   },
   "outputs": [
    {
     "name": "stdout",
     "output_type": "stream",
     "text": [
      "142246\n"
     ]
    }
   ],
   "source": [
    "id = []\n",
    "seq = [] \n",
    "\n",
    "for seq_record in SeqIO.parse(\".../train_sequences.fasta\", \"fasta\"):\n",
    "  id.append(seq_record.id)\n",
    "  seq.append(str(seq_record.seq))\n",
    "\n",
    "print(len(id))"
   ]
  },
  {
   "cell_type": "code",
   "execution_count": 3,
   "id": "67d375fc",
   "metadata": {
    "execution": {
     "iopub.execute_input": "2023-05-09T02:37:42.008179Z",
     "iopub.status.busy": "2023-05-09T02:37:42.006211Z",
     "iopub.status.idle": "2023-05-09T02:37:42.079199Z",
     "shell.execute_reply": "2023-05-09T02:37:42.078185Z"
    },
    "id": "xgUTbUjFnMOq",
    "outputId": "f1d3f599-d70b-4e5e-a19c-82365158eedf",
    "papermill": {
     "duration": 0.093399,
     "end_time": "2023-05-09T02:37:42.081417",
     "exception": false,
     "start_time": "2023-05-09T02:37:41.988018",
     "status": "completed"
    },
    "tags": []
   },
   "outputs": [
    {
     "data": {
      "text/html": [
       "<div>\n",
       "<style scoped>\n",
       "    .dataframe tbody tr th:only-of-type {\n",
       "        vertical-align: middle;\n",
       "    }\n",
       "\n",
       "    .dataframe tbody tr th {\n",
       "        vertical-align: top;\n",
       "    }\n",
       "\n",
       "    .dataframe thead th {\n",
       "        text-align: right;\n",
       "    }\n",
       "</style>\n",
       "<table border=\"1\" class=\"dataframe\">\n",
       "  <thead>\n",
       "    <tr style=\"text-align: right;\">\n",
       "      <th></th>\n",
       "      <th>id</th>\n",
       "      <th>sequence</th>\n",
       "    </tr>\n",
       "  </thead>\n",
       "  <tbody>\n",
       "    <tr>\n",
       "      <th>0</th>\n",
       "      <td>P20536</td>\n",
       "      <td>MNSVTVSHAPYTITYHDDWEPVMSQLVEFYNEVASWLLRDETSPIP...</td>\n",
       "    </tr>\n",
       "    <tr>\n",
       "      <th>1</th>\n",
       "      <td>O73864</td>\n",
       "      <td>MTEYRNFLLLFITSLSVIYPCTGISWLGLTINGSSVGWNQTHHCKL...</td>\n",
       "    </tr>\n",
       "    <tr>\n",
       "      <th>2</th>\n",
       "      <td>O95231</td>\n",
       "      <td>MRLSSSPPRGPQQLSSFGSVDWLSQSSCSGPTHTPRPADFSLGSLP...</td>\n",
       "    </tr>\n",
       "    <tr>\n",
       "      <th>3</th>\n",
       "      <td>A0A0B4J1F4</td>\n",
       "      <td>MGGEAGADGPRGRVKSLGLVFEDESKGCYSSGETVAGHVLLEAAEP...</td>\n",
       "    </tr>\n",
       "    <tr>\n",
       "      <th>4</th>\n",
       "      <td>P54366</td>\n",
       "      <td>MVETNSPPAGYTLKRSPSDLGEQQQPPRQISRSPGNTAAYHLTTAM...</td>\n",
       "    </tr>\n",
       "  </tbody>\n",
       "</table>\n",
       "</div>"
      ],
      "text/plain": [
       "           id                                           sequence\n",
       "0      P20536  MNSVTVSHAPYTITYHDDWEPVMSQLVEFYNEVASWLLRDETSPIP...\n",
       "1      O73864  MTEYRNFLLLFITSLSVIYPCTGISWLGLTINGSSVGWNQTHHCKL...\n",
       "2      O95231  MRLSSSPPRGPQQLSSFGSVDWLSQSSCSGPTHTPRPADFSLGSLP...\n",
       "3  A0A0B4J1F4  MGGEAGADGPRGRVKSLGLVFEDESKGCYSSGETVAGHVLLEAAEP...\n",
       "4      P54366  MVETNSPPAGYTLKRSPSDLGEQQQPPRQISRSPGNTAAYHLTTAM..."
      ]
     },
     "execution_count": 3,
     "metadata": {},
     "output_type": "execute_result"
    }
   ],
   "source": [
    "seq_df = pd.DataFrame({\"id\": id, \"sequence\": seq})\n",
    "del id\n",
    "del seq\n",
    "seq_df.head()"
   ]
  },
  {
   "cell_type": "code",
   "execution_count": 4,
   "id": "c5cb37f8",
   "metadata": {
    "execution": {
     "iopub.execute_input": "2023-05-09T02:37:42.117407Z",
     "iopub.status.busy": "2023-05-09T02:37:42.117048Z",
     "iopub.status.idle": "2023-05-09T02:37:42.295900Z",
     "shell.execute_reply": "2023-05-09T02:37:42.294939Z"
    },
    "papermill": {
     "duration": 0.199219,
     "end_time": "2023-05-09T02:37:42.298049",
     "exception": false,
     "start_time": "2023-05-09T02:37:42.098830",
     "status": "completed"
    },
    "tags": []
   },
   "outputs": [
    {
     "data": {
      "text/plain": [
       "0"
      ]
     },
     "execution_count": 4,
     "metadata": {},
     "output_type": "execute_result"
    }
   ],
   "source": [
    "gc.collect()"
   ]
  },
  {
   "cell_type": "code",
   "execution_count": 5,
   "id": "ac17bfa5",
   "metadata": {
    "execution": {
     "iopub.execute_input": "2023-05-09T02:37:42.334386Z",
     "iopub.status.busy": "2023-05-09T02:37:42.333561Z",
     "iopub.status.idle": "2023-05-09T02:37:42.555037Z",
     "shell.execute_reply": "2023-05-09T02:37:42.553813Z"
    },
    "id": "fwkI7RxIzimq",
    "outputId": "365ed4bf-fee4-44e7-ab6e-263d5b444974",
    "papermill": {
     "duration": 0.242303,
     "end_time": "2023-05-09T02:37:42.557759",
     "exception": false,
     "start_time": "2023-05-09T02:37:42.315456",
     "status": "completed"
    },
    "tags": []
   },
   "outputs": [
    {
     "data": {
      "text/html": [
       "<div>\n",
       "<style scoped>\n",
       "    .dataframe tbody tr th:only-of-type {\n",
       "        vertical-align: middle;\n",
       "    }\n",
       "\n",
       "    .dataframe tbody tr th {\n",
       "        vertical-align: top;\n",
       "    }\n",
       "\n",
       "    .dataframe thead th {\n",
       "        text-align: right;\n",
       "    }\n",
       "</style>\n",
       "<table border=\"1\" class=\"dataframe\">\n",
       "  <thead>\n",
       "    <tr style=\"text-align: right;\">\n",
       "      <th></th>\n",
       "      <th>id</th>\n",
       "      <th>sequence</th>\n",
       "    </tr>\n",
       "  </thead>\n",
       "  <tbody>\n",
       "    <tr>\n",
       "      <th>0</th>\n",
       "      <td>A0A009IHW8</td>\n",
       "      <td>MSLEQKKGADIISKILQIQNSIGKTTSPSTLKTKLSEISRKEQENA...</td>\n",
       "    </tr>\n",
       "    <tr>\n",
       "      <th>1</th>\n",
       "      <td>A0A021WW32</td>\n",
       "      <td>MFYEHIILAKKGPLARIWLAAHWDKKITKAHVFETNIEKSVEGILQ...</td>\n",
       "    </tr>\n",
       "    <tr>\n",
       "      <th>2</th>\n",
       "      <td>A0A021WZA4</td>\n",
       "      <td>MKYINCTQPAIDDFPRDLFSEAQRQSGAVVLHVIASLYLFVALAVV...</td>\n",
       "    </tr>\n",
       "    <tr>\n",
       "      <th>3</th>\n",
       "      <td>A0A023FBW4</td>\n",
       "      <td>MTSHGAVKIAIFAVIALHSIFECLSKPQILQRTDHSTDSDWDPQMC...</td>\n",
       "    </tr>\n",
       "    <tr>\n",
       "      <th>4</th>\n",
       "      <td>A0A023FBW7</td>\n",
       "      <td>MKVLLYIAASCLMLLALNVSAENTQQEEEDYDYGTDTCPFPVLANK...</td>\n",
       "    </tr>\n",
       "  </tbody>\n",
       "</table>\n",
       "</div>"
      ],
      "text/plain": [
       "           id                                           sequence\n",
       "0  A0A009IHW8  MSLEQKKGADIISKILQIQNSIGKTTSPSTLKTKLSEISRKEQENA...\n",
       "1  A0A021WW32  MFYEHIILAKKGPLARIWLAAHWDKKITKAHVFETNIEKSVEGILQ...\n",
       "2  A0A021WZA4  MKYINCTQPAIDDFPRDLFSEAQRQSGAVVLHVIASLYLFVALAVV...\n",
       "3  A0A023FBW4  MTSHGAVKIAIFAVIALHSIFECLSKPQILQRTDHSTDSDWDPQMC...\n",
       "4  A0A023FBW7  MKVLLYIAASCLMLLALNVSAENTQQEEEDYDYGTDTCPFPVLANK..."
      ]
     },
     "execution_count": 5,
     "metadata": {},
     "output_type": "execute_result"
    }
   ],
   "source": [
    "seq_df = seq_df.sort_values(\"id\").reset_index().drop(\"index\", axis = 1)\n",
    "seq_df.head()"
   ]
  },
  {
   "cell_type": "markdown",
   "id": "93eb5cbd",
   "metadata": {
    "id": "NV1oGENpSu2O",
    "papermill": {
     "duration": 0.016756,
     "end_time": "2023-05-09T02:37:42.591706",
     "exception": false,
     "start_time": "2023-05-09T02:37:42.574950",
     "status": "completed"
    },
    "tags": []
   },
   "source": [
    "#### Extract other features"
   ]
  },
  {
   "cell_type": "code",
   "execution_count": 6,
   "id": "f76ace8b",
   "metadata": {
    "execution": {
     "iopub.execute_input": "2023-05-09T02:37:42.627303Z",
     "iopub.status.busy": "2023-05-09T02:37:42.626566Z",
     "iopub.status.idle": "2023-05-09T02:37:48.137689Z",
     "shell.execute_reply": "2023-05-09T02:37:48.136534Z"
    },
    "id": "JMv-DLqpqHKb",
    "outputId": "09b92a15-8e85-4870-b8a8-59fc17195c8c",
    "papermill": {
     "duration": 5.531795,
     "end_time": "2023-05-09T02:37:48.140371",
     "exception": false,
     "start_time": "2023-05-09T02:37:42.608576",
     "status": "completed"
    },
    "tags": []
   },
   "outputs": [
    {
     "data": {
      "text/html": [
       "<div>\n",
       "<style scoped>\n",
       "    .dataframe tbody tr th:only-of-type {\n",
       "        vertical-align: middle;\n",
       "    }\n",
       "\n",
       "    .dataframe tbody tr th {\n",
       "        vertical-align: top;\n",
       "    }\n",
       "\n",
       "    .dataframe thead th {\n",
       "        text-align: right;\n",
       "    }\n",
       "</style>\n",
       "<table border=\"1\" class=\"dataframe\">\n",
       "  <thead>\n",
       "    <tr style=\"text-align: right;\">\n",
       "      <th></th>\n",
       "      <th>A</th>\n",
       "      <th>C</th>\n",
       "      <th>D</th>\n",
       "      <th>E</th>\n",
       "      <th>F</th>\n",
       "      <th>G</th>\n",
       "      <th>H</th>\n",
       "      <th>I</th>\n",
       "      <th>K</th>\n",
       "      <th>L</th>\n",
       "      <th>M</th>\n",
       "      <th>N</th>\n",
       "      <th>P</th>\n",
       "      <th>Q</th>\n",
       "      <th>R</th>\n",
       "      <th>S</th>\n",
       "      <th>T</th>\n",
       "      <th>V</th>\n",
       "      <th>W</th>\n",
       "      <th>Y</th>\n",
       "    </tr>\n",
       "  </thead>\n",
       "  <tbody>\n",
       "    <tr>\n",
       "      <th>0</th>\n",
       "      <td>0.040892</td>\n",
       "      <td>0.000000</td>\n",
       "      <td>0.074349</td>\n",
       "      <td>0.085502</td>\n",
       "      <td>0.014870</td>\n",
       "      <td>0.029740</td>\n",
       "      <td>0.018587</td>\n",
       "      <td>0.096654</td>\n",
       "      <td>0.126394</td>\n",
       "      <td>0.107807</td>\n",
       "      <td>0.011152</td>\n",
       "      <td>0.055762</td>\n",
       "      <td>0.022305</td>\n",
       "      <td>0.055762</td>\n",
       "      <td>0.033457</td>\n",
       "      <td>0.081784</td>\n",
       "      <td>0.059480</td>\n",
       "      <td>0.048327</td>\n",
       "      <td>0.011152</td>\n",
       "      <td>0.026022</td>\n",
       "    </tr>\n",
       "    <tr>\n",
       "      <th>1</th>\n",
       "      <td>0.061611</td>\n",
       "      <td>0.006319</td>\n",
       "      <td>0.078989</td>\n",
       "      <td>0.082148</td>\n",
       "      <td>0.045814</td>\n",
       "      <td>0.058452</td>\n",
       "      <td>0.033175</td>\n",
       "      <td>0.067930</td>\n",
       "      <td>0.056872</td>\n",
       "      <td>0.091627</td>\n",
       "      <td>0.025276</td>\n",
       "      <td>0.067930</td>\n",
       "      <td>0.048973</td>\n",
       "      <td>0.030016</td>\n",
       "      <td>0.036335</td>\n",
       "      <td>0.082148</td>\n",
       "      <td>0.045814</td>\n",
       "      <td>0.056872</td>\n",
       "      <td>0.006319</td>\n",
       "      <td>0.017378</td>\n",
       "    </tr>\n",
       "    <tr>\n",
       "      <th>2</th>\n",
       "      <td>0.110220</td>\n",
       "      <td>0.032064</td>\n",
       "      <td>0.038076</td>\n",
       "      <td>0.038076</td>\n",
       "      <td>0.052104</td>\n",
       "      <td>0.076152</td>\n",
       "      <td>0.012024</td>\n",
       "      <td>0.086172</td>\n",
       "      <td>0.042084</td>\n",
       "      <td>0.094188</td>\n",
       "      <td>0.030060</td>\n",
       "      <td>0.038076</td>\n",
       "      <td>0.036072</td>\n",
       "      <td>0.022044</td>\n",
       "      <td>0.020040</td>\n",
       "      <td>0.068136</td>\n",
       "      <td>0.070140</td>\n",
       "      <td>0.088176</td>\n",
       "      <td>0.016032</td>\n",
       "      <td>0.030060</td>\n",
       "    </tr>\n",
       "    <tr>\n",
       "      <th>3</th>\n",
       "      <td>0.061856</td>\n",
       "      <td>0.072165</td>\n",
       "      <td>0.082474</td>\n",
       "      <td>0.041237</td>\n",
       "      <td>0.030928</td>\n",
       "      <td>0.092784</td>\n",
       "      <td>0.051546</td>\n",
       "      <td>0.061856</td>\n",
       "      <td>0.030928</td>\n",
       "      <td>0.061856</td>\n",
       "      <td>0.030928</td>\n",
       "      <td>0.041237</td>\n",
       "      <td>0.041237</td>\n",
       "      <td>0.041237</td>\n",
       "      <td>0.010309</td>\n",
       "      <td>0.113402</td>\n",
       "      <td>0.072165</td>\n",
       "      <td>0.041237</td>\n",
       "      <td>0.020619</td>\n",
       "      <td>0.000000</td>\n",
       "    </tr>\n",
       "    <tr>\n",
       "      <th>4</th>\n",
       "      <td>0.059322</td>\n",
       "      <td>0.076271</td>\n",
       "      <td>0.059322</td>\n",
       "      <td>0.093220</td>\n",
       "      <td>0.016949</td>\n",
       "      <td>0.076271</td>\n",
       "      <td>0.008475</td>\n",
       "      <td>0.008475</td>\n",
       "      <td>0.101695</td>\n",
       "      <td>0.093220</td>\n",
       "      <td>0.033898</td>\n",
       "      <td>0.059322</td>\n",
       "      <td>0.033898</td>\n",
       "      <td>0.033898</td>\n",
       "      <td>0.033898</td>\n",
       "      <td>0.025424</td>\n",
       "      <td>0.059322</td>\n",
       "      <td>0.067797</td>\n",
       "      <td>0.016949</td>\n",
       "      <td>0.042373</td>\n",
       "    </tr>\n",
       "  </tbody>\n",
       "</table>\n",
       "</div>"
      ],
      "text/plain": [
       "          A         C         D         E         F         G         H  \\\n",
       "0  0.040892  0.000000  0.074349  0.085502  0.014870  0.029740  0.018587   \n",
       "1  0.061611  0.006319  0.078989  0.082148  0.045814  0.058452  0.033175   \n",
       "2  0.110220  0.032064  0.038076  0.038076  0.052104  0.076152  0.012024   \n",
       "3  0.061856  0.072165  0.082474  0.041237  0.030928  0.092784  0.051546   \n",
       "4  0.059322  0.076271  0.059322  0.093220  0.016949  0.076271  0.008475   \n",
       "\n",
       "          I         K         L         M         N         P         Q  \\\n",
       "0  0.096654  0.126394  0.107807  0.011152  0.055762  0.022305  0.055762   \n",
       "1  0.067930  0.056872  0.091627  0.025276  0.067930  0.048973  0.030016   \n",
       "2  0.086172  0.042084  0.094188  0.030060  0.038076  0.036072  0.022044   \n",
       "3  0.061856  0.030928  0.061856  0.030928  0.041237  0.041237  0.041237   \n",
       "4  0.008475  0.101695  0.093220  0.033898  0.059322  0.033898  0.033898   \n",
       "\n",
       "          R         S         T         V         W         Y  \n",
       "0  0.033457  0.081784  0.059480  0.048327  0.011152  0.026022  \n",
       "1  0.036335  0.082148  0.045814  0.056872  0.006319  0.017378  \n",
       "2  0.020040  0.068136  0.070140  0.088176  0.016032  0.030060  \n",
       "3  0.010309  0.113402  0.072165  0.041237  0.020619  0.000000  \n",
       "4  0.033898  0.025424  0.059322  0.067797  0.016949  0.042373  "
      ]
     },
     "execution_count": 6,
     "metadata": {},
     "output_type": "execute_result"
    }
   ],
   "source": [
    "lst = []\n",
    "for s in seq_df[\"sequence\"]:\n",
    "  lst.append(ProteinAnalysis(s).get_amino_acids_percent())\n",
    "X = pd.DataFrame(lst)\n",
    "X.head()"
   ]
  },
  {
   "cell_type": "code",
   "execution_count": 7,
   "id": "e5fcd26a",
   "metadata": {
    "execution": {
     "iopub.execute_input": "2023-05-09T02:37:48.178549Z",
     "iopub.status.busy": "2023-05-09T02:37:48.177616Z",
     "iopub.status.idle": "2023-05-09T02:37:48.259500Z",
     "shell.execute_reply": "2023-05-09T02:37:48.258245Z"
    },
    "papermill": {
     "duration": 0.103183,
     "end_time": "2023-05-09T02:37:48.261640",
     "exception": false,
     "start_time": "2023-05-09T02:37:48.158457",
     "status": "completed"
    },
    "tags": []
   },
   "outputs": [],
   "source": [
    "del lst"
   ]
  },
  {
   "cell_type": "code",
   "execution_count": 8,
   "id": "3f7c8b6d",
   "metadata": {
    "execution": {
     "iopub.execute_input": "2023-05-09T02:37:48.298143Z",
     "iopub.status.busy": "2023-05-09T02:37:48.297794Z",
     "iopub.status.idle": "2023-05-09T02:37:51.729994Z",
     "shell.execute_reply": "2023-05-09T02:37:51.728223Z"
    },
    "id": "4XFMLpBAqHKb",
    "outputId": "fc9d9249-fcba-4c15-c538-a9598103fb28",
    "papermill": {
     "duration": 3.45279,
     "end_time": "2023-05-09T02:37:51.732192",
     "exception": false,
     "start_time": "2023-05-09T02:37:48.279402",
     "status": "completed"
    },
    "tags": []
   },
   "outputs": [
    {
     "data": {
      "text/html": [
       "<div>\n",
       "<style scoped>\n",
       "    .dataframe tbody tr th:only-of-type {\n",
       "        vertical-align: middle;\n",
       "    }\n",
       "\n",
       "    .dataframe tbody tr th {\n",
       "        vertical-align: top;\n",
       "    }\n",
       "\n",
       "    .dataframe thead th {\n",
       "        text-align: right;\n",
       "    }\n",
       "</style>\n",
       "<table border=\"1\" class=\"dataframe\">\n",
       "  <thead>\n",
       "    <tr style=\"text-align: right;\">\n",
       "      <th></th>\n",
       "      <th>EntryID</th>\n",
       "      <th>term</th>\n",
       "      <th>aspect</th>\n",
       "    </tr>\n",
       "  </thead>\n",
       "  <tbody>\n",
       "    <tr>\n",
       "      <th>0</th>\n",
       "      <td>A0A009IHW8</td>\n",
       "      <td>GO:0008152</td>\n",
       "      <td>BPO</td>\n",
       "    </tr>\n",
       "    <tr>\n",
       "      <th>1</th>\n",
       "      <td>A0A009IHW8</td>\n",
       "      <td>GO:0034655</td>\n",
       "      <td>BPO</td>\n",
       "    </tr>\n",
       "    <tr>\n",
       "      <th>2</th>\n",
       "      <td>A0A009IHW8</td>\n",
       "      <td>GO:0072523</td>\n",
       "      <td>BPO</td>\n",
       "    </tr>\n",
       "    <tr>\n",
       "      <th>3</th>\n",
       "      <td>A0A009IHW8</td>\n",
       "      <td>GO:0044270</td>\n",
       "      <td>BPO</td>\n",
       "    </tr>\n",
       "    <tr>\n",
       "      <th>4</th>\n",
       "      <td>A0A009IHW8</td>\n",
       "      <td>GO:0006753</td>\n",
       "      <td>BPO</td>\n",
       "    </tr>\n",
       "  </tbody>\n",
       "</table>\n",
       "</div>"
      ],
      "text/plain": [
       "      EntryID        term aspect\n",
       "0  A0A009IHW8  GO:0008152    BPO\n",
       "1  A0A009IHW8  GO:0034655    BPO\n",
       "2  A0A009IHW8  GO:0072523    BPO\n",
       "3  A0A009IHW8  GO:0044270    BPO\n",
       "4  A0A009IHW8  GO:0006753    BPO"
      ]
     },
     "execution_count": 8,
     "metadata": {},
     "output_type": "execute_result"
    }
   ],
   "source": [
    "train_terms = pd.read_table(\".../train_terms.tsv\")\n",
    "train_terms.head()"
   ]
  },
  {
   "cell_type": "code",
   "execution_count": 9,
   "id": "11095503",
   "metadata": {
    "execution": {
     "iopub.execute_input": "2023-05-09T02:37:51.769386Z",
     "iopub.status.busy": "2023-05-09T02:37:51.769027Z",
     "iopub.status.idle": "2023-05-09T02:37:52.251446Z",
     "shell.execute_reply": "2023-05-09T02:37:52.250061Z"
    },
    "id": "3Ja2OCSdyT-l",
    "outputId": "b9457fc9-1337-42ea-ee78-2ec8b7c87b64",
    "papermill": {
     "duration": 0.503872,
     "end_time": "2023-05-09T02:37:52.254128",
     "exception": false,
     "start_time": "2023-05-09T02:37:51.750256",
     "status": "completed"
    },
    "tags": []
   },
   "outputs": [
    {
     "name": "stdout",
     "output_type": "stream",
     "text": [
      "GO:0005575    92912\n",
      "GO:0008150    92210\n",
      "GO:0110165    91286\n",
      "GO:0003674    78637\n",
      "GO:0005622    70785\n",
      "              ...  \n",
      "GO:0031772        1\n",
      "GO:0042324        1\n",
      "GO:0031771        1\n",
      "GO:0051041        1\n",
      "GO:0102628        1\n",
      "Name: term, Length: 31466, dtype: int64\n"
     ]
    }
   ],
   "source": [
    "# get most occured label\n",
    "num_label = 1000\n",
    "#1500 => 0.24 micro f1-score\n",
    "#3000 => 0.21 micro f1-score\n",
    "#1000 => 0.26\n",
    "\n",
    "freqCount = (train_terms['term'].value_counts())\n",
    "print(freqCount)\n",
    "considered_one = list(freqCount.index[:num_label])"
   ]
  },
  {
   "cell_type": "code",
   "execution_count": 10,
   "id": "efd7b321",
   "metadata": {
    "execution": {
     "iopub.execute_input": "2023-05-09T02:37:52.291758Z",
     "iopub.status.busy": "2023-05-09T02:37:52.291361Z",
     "iopub.status.idle": "2023-05-09T02:37:53.197654Z",
     "shell.execute_reply": "2023-05-09T02:37:53.196484Z"
    },
    "papermill": {
     "duration": 0.927781,
     "end_time": "2023-05-09T02:37:53.200042",
     "exception": false,
     "start_time": "2023-05-09T02:37:52.272261",
     "status": "completed"
    },
    "tags": []
   },
   "outputs": [
    {
     "data": {
      "text/plain": [
       "0"
      ]
     },
     "execution_count": 10,
     "metadata": {},
     "output_type": "execute_result"
    }
   ],
   "source": [
    "# check if these features are enough to cover all cases\n",
    "train_terms[train_terms[\"term\"].isin(considered_one)][\"EntryID\"].nunique() - 142246 # need to be 1\n",
    "# good for case of 1000+"
   ]
  },
  {
   "cell_type": "code",
   "execution_count": 11,
   "id": "c6aef028",
   "metadata": {
    "execution": {
     "iopub.execute_input": "2023-05-09T02:37:53.239896Z",
     "iopub.status.busy": "2023-05-09T02:37:53.239446Z",
     "iopub.status.idle": "2023-05-09T02:43:17.204273Z",
     "shell.execute_reply": "2023-05-09T02:43:17.203210Z"
    },
    "id": "9J_-If5yyt7U",
    "outputId": "b10385ef-4ef8-45e5-ad71-f837fb718d8e",
    "papermill": {
     "duration": 323.98973,
     "end_time": "2023-05-09T02:43:17.208234",
     "exception": false,
     "start_time": "2023-05-09T02:37:53.218504",
     "status": "completed"
    },
    "tags": []
   },
   "outputs": [
    {
     "name": "stderr",
     "output_type": "stream",
     "text": [
      "100%|██████████| 1000/1000 [05:23<00:00,  3.09it/s]\n"
     ]
    },
    {
     "data": {
      "text/plain": [
       "array([[0., 1., 0., ..., 0., 0., 0.],\n",
       "       [1., 1., 1., ..., 0., 0., 0.],\n",
       "       [1., 0., 1., ..., 0., 0., 0.],\n",
       "       ...,\n",
       "       [1., 0., 1., ..., 0., 0., 0.],\n",
       "       [1., 0., 1., ..., 0., 0., 0.],\n",
       "       [1., 0., 1., ..., 0., 0., 0.]])"
      ]
     },
     "execution_count": 11,
     "metadata": {},
     "output_type": "execute_result"
    }
   ],
   "source": [
    "# make multilabel data\n",
    "train_size = len(seq_df)\n",
    "Y = np.zeros((train_size ,num_label))\n",
    "train_protein = pd.Series(seq_df[\"id\"])\n",
    "train_terms_smaller = train_terms[train_terms[\"term\"].isin(considered_one)]\n",
    "for i in tqdm(range(Y.shape[1])):\n",
    "    m = train_terms_smaller['term'] ==  considered_one[i]\n",
    "    Y[:,i] =  train_protein.isin( set(train_terms_smaller[m]['EntryID'] ) ).astype(float )\n",
    "Y"
   ]
  },
  {
   "cell_type": "code",
   "execution_count": 12,
   "id": "9b8fefa8",
   "metadata": {
    "execution": {
     "iopub.execute_input": "2023-05-09T02:43:17.381461Z",
     "iopub.status.busy": "2023-05-09T02:43:17.380964Z",
     "iopub.status.idle": "2023-05-09T02:43:17.387443Z",
     "shell.execute_reply": "2023-05-09T02:43:17.386508Z"
    },
    "id": "Wcpr3_KI2u1J",
    "outputId": "d93ee221-39d1-406f-b3c8-8f0593cfe4ff",
    "papermill": {
     "duration": 0.101605,
     "end_time": "2023-05-09T02:43:17.389891",
     "exception": false,
     "start_time": "2023-05-09T02:43:17.288286",
     "status": "completed"
    },
    "tags": []
   },
   "outputs": [
    {
     "data": {
      "text/plain": [
       "(142246, 1000)"
      ]
     },
     "execution_count": 12,
     "metadata": {},
     "output_type": "execute_result"
    }
   ],
   "source": [
    "Y.shape"
   ]
  },
  {
   "cell_type": "code",
   "execution_count": 13,
   "id": "fc827a61",
   "metadata": {
    "execution": {
     "iopub.execute_input": "2023-05-09T02:43:17.546225Z",
     "iopub.status.busy": "2023-05-09T02:43:17.545487Z",
     "iopub.status.idle": "2023-05-09T02:43:17.552003Z",
     "shell.execute_reply": "2023-05-09T02:43:17.551053Z"
    },
    "id": "rXKn8sjR2xLL",
    "outputId": "a48040a5-5423-47a0-e0bf-5f882ee6d794",
    "papermill": {
     "duration": 0.087561,
     "end_time": "2023-05-09T02:43:17.554023",
     "exception": false,
     "start_time": "2023-05-09T02:43:17.466462",
     "status": "completed"
    },
    "tags": []
   },
   "outputs": [
    {
     "data": {
      "text/plain": [
       "(142246, 20)"
      ]
     },
     "execution_count": 13,
     "metadata": {},
     "output_type": "execute_result"
    }
   ],
   "source": [
    "X = X.values\n",
    "X.shape"
   ]
  },
  {
   "cell_type": "code",
   "execution_count": 14,
   "id": "ae4a83bc",
   "metadata": {
    "execution": {
     "iopub.execute_input": "2023-05-09T02:43:17.711600Z",
     "iopub.status.busy": "2023-05-09T02:43:17.710850Z",
     "iopub.status.idle": "2023-05-09T02:43:17.715782Z",
     "shell.execute_reply": "2023-05-09T02:43:17.715033Z"
    },
    "papermill": {
     "duration": 0.086127,
     "end_time": "2023-05-09T02:43:17.717851",
     "exception": false,
     "start_time": "2023-05-09T02:43:17.631724",
     "status": "completed"
    },
    "tags": []
   },
   "outputs": [],
   "source": [
    "del train_terms\n",
    "del freqCount"
   ]
  },
  {
   "cell_type": "markdown",
   "id": "a323e504",
   "metadata": {
    "id": "K2UR4R6Q3ehd",
    "papermill": {
     "duration": 0.077692,
     "end_time": "2023-05-09T02:43:17.872714",
     "exception": false,
     "start_time": "2023-05-09T02:43:17.795022",
     "status": "completed"
    },
    "tags": []
   },
   "source": [
    "#### Train using current features"
   ]
  },
  {
   "cell_type": "code",
   "execution_count": 15,
   "id": "502287fa",
   "metadata": {
    "execution": {
     "iopub.execute_input": "2023-05-09T02:43:18.032251Z",
     "iopub.status.busy": "2023-05-09T02:43:18.031448Z",
     "iopub.status.idle": "2023-05-09T02:43:19.512952Z",
     "shell.execute_reply": "2023-05-09T02:43:19.512145Z"
    },
    "id": "IHi7nW4I3gqs",
    "papermill": {
     "duration": 1.563754,
     "end_time": "2023-05-09T02:43:19.515208",
     "exception": false,
     "start_time": "2023-05-09T02:43:17.951454",
     "status": "completed"
    },
    "tags": []
   },
   "outputs": [
    {
     "name": "stderr",
     "output_type": "stream",
     "text": [
      "/opt/conda/lib/python3.10/site-packages/scipy/__init__.py:146: UserWarning: A NumPy version >=1.16.5 and <1.23.0 is required for this version of SciPy (detected version 1.23.5\n",
      "  warnings.warn(f\"A NumPy version >={np_minversion} and <{np_maxversion}\"\n"
     ]
    }
   ],
   "source": [
    "from sklearn.model_selection import train_test_split\n",
    "\n",
    "X_train, X_test, Y_train, Y_test = train_test_split(X, Y, test_size = 0.3, random_state = 101)"
   ]
  },
  {
   "cell_type": "code",
   "execution_count": 16,
   "id": "9a193dbc",
   "metadata": {
    "execution": {
     "iopub.execute_input": "2023-05-09T02:43:19.673156Z",
     "iopub.status.busy": "2023-05-09T02:43:19.672232Z",
     "iopub.status.idle": "2023-05-09T02:43:19.677199Z",
     "shell.execute_reply": "2023-05-09T02:43:19.676518Z"
    },
    "id": "8tx-qzp33b4G",
    "papermill": {
     "duration": 0.085533,
     "end_time": "2023-05-09T02:43:19.679097",
     "exception": false,
     "start_time": "2023-05-09T02:43:19.593564",
     "status": "completed"
    },
    "tags": []
   },
   "outputs": [],
   "source": [
    "from sklearn.metrics import f1_score"
   ]
  },
  {
   "cell_type": "markdown",
   "id": "968c8f38",
   "metadata": {
    "id": "yrg1sHcxh6AM",
    "papermill": {
     "duration": 0.076651,
     "end_time": "2023-05-09T02:43:19.832630",
     "exception": false,
     "start_time": "2023-05-09T02:43:19.755979",
     "status": "completed"
    },
    "tags": []
   },
   "source": [
    "Binary Relevance Naive Bayes"
   ]
  },
  {
   "cell_type": "code",
   "execution_count": 17,
   "id": "017f2a70",
   "metadata": {
    "execution": {
     "iopub.execute_input": "2023-05-09T02:43:19.989120Z",
     "iopub.status.busy": "2023-05-09T02:43:19.988509Z",
     "iopub.status.idle": "2023-05-09T02:43:20.013915Z",
     "shell.execute_reply": "2023-05-09T02:43:20.012867Z"
    },
    "id": "ZsLcNYN2h6OV",
    "papermill": {
     "duration": 0.106631,
     "end_time": "2023-05-09T02:43:20.016288",
     "exception": false,
     "start_time": "2023-05-09T02:43:19.909657",
     "status": "completed"
    },
    "tags": []
   },
   "outputs": [],
   "source": [
    "from skmultilearn.problem_transform import BinaryRelevance\n",
    "from sklearn.naive_bayes import GaussianNB"
   ]
  },
  {
   "cell_type": "code",
   "execution_count": 18,
   "id": "a04cdbbe",
   "metadata": {
    "execution": {
     "iopub.execute_input": "2023-05-09T02:43:20.171308Z",
     "iopub.status.busy": "2023-05-09T02:43:20.170928Z",
     "iopub.status.idle": "2023-05-09T02:43:20.175414Z",
     "shell.execute_reply": "2023-05-09T02:43:20.174384Z"
    },
    "id": "nJi60jsoh6qQ",
    "papermill": {
     "duration": 0.084643,
     "end_time": "2023-05-09T02:43:20.177832",
     "exception": false,
     "start_time": "2023-05-09T02:43:20.093189",
     "status": "completed"
    },
    "tags": []
   },
   "outputs": [],
   "source": [
    "br_gnb = BinaryRelevance(GaussianNB())"
   ]
  },
  {
   "cell_type": "code",
   "execution_count": 19,
   "id": "177d330b",
   "metadata": {
    "execution": {
     "iopub.execute_input": "2023-05-09T02:43:20.334322Z",
     "iopub.status.busy": "2023-05-09T02:43:20.333959Z",
     "iopub.status.idle": "2023-05-09T02:44:09.529077Z",
     "shell.execute_reply": "2023-05-09T02:44:09.527925Z"
    },
    "id": "Es-rBeByh_d_",
    "outputId": "24c39787-644f-4719-e06f-e2395c42129c",
    "papermill": {
     "duration": 49.354496,
     "end_time": "2023-05-09T02:44:09.609932",
     "exception": false,
     "start_time": "2023-05-09T02:43:20.255436",
     "status": "completed"
    },
    "tags": []
   },
   "outputs": [
    {
     "data": {
      "text/html": [
       "<style>#sk-container-id-1 {color: black;background-color: white;}#sk-container-id-1 pre{padding: 0;}#sk-container-id-1 div.sk-toggleable {background-color: white;}#sk-container-id-1 label.sk-toggleable__label {cursor: pointer;display: block;width: 100%;margin-bottom: 0;padding: 0.3em;box-sizing: border-box;text-align: center;}#sk-container-id-1 label.sk-toggleable__label-arrow:before {content: \"▸\";float: left;margin-right: 0.25em;color: #696969;}#sk-container-id-1 label.sk-toggleable__label-arrow:hover:before {color: black;}#sk-container-id-1 div.sk-estimator:hover label.sk-toggleable__label-arrow:before {color: black;}#sk-container-id-1 div.sk-toggleable__content {max-height: 0;max-width: 0;overflow: hidden;text-align: left;background-color: #f0f8ff;}#sk-container-id-1 div.sk-toggleable__content pre {margin: 0.2em;color: black;border-radius: 0.25em;background-color: #f0f8ff;}#sk-container-id-1 input.sk-toggleable__control:checked~div.sk-toggleable__content {max-height: 200px;max-width: 100%;overflow: auto;}#sk-container-id-1 input.sk-toggleable__control:checked~label.sk-toggleable__label-arrow:before {content: \"▾\";}#sk-container-id-1 div.sk-estimator input.sk-toggleable__control:checked~label.sk-toggleable__label {background-color: #d4ebff;}#sk-container-id-1 div.sk-label input.sk-toggleable__control:checked~label.sk-toggleable__label {background-color: #d4ebff;}#sk-container-id-1 input.sk-hidden--visually {border: 0;clip: rect(1px 1px 1px 1px);clip: rect(1px, 1px, 1px, 1px);height: 1px;margin: -1px;overflow: hidden;padding: 0;position: absolute;width: 1px;}#sk-container-id-1 div.sk-estimator {font-family: monospace;background-color: #f0f8ff;border: 1px dotted black;border-radius: 0.25em;box-sizing: border-box;margin-bottom: 0.5em;}#sk-container-id-1 div.sk-estimator:hover {background-color: #d4ebff;}#sk-container-id-1 div.sk-parallel-item::after {content: \"\";width: 100%;border-bottom: 1px solid gray;flex-grow: 1;}#sk-container-id-1 div.sk-label:hover label.sk-toggleable__label {background-color: #d4ebff;}#sk-container-id-1 div.sk-serial::before {content: \"\";position: absolute;border-left: 1px solid gray;box-sizing: border-box;top: 0;bottom: 0;left: 50%;z-index: 0;}#sk-container-id-1 div.sk-serial {display: flex;flex-direction: column;align-items: center;background-color: white;padding-right: 0.2em;padding-left: 0.2em;position: relative;}#sk-container-id-1 div.sk-item {position: relative;z-index: 1;}#sk-container-id-1 div.sk-parallel {display: flex;align-items: stretch;justify-content: center;background-color: white;position: relative;}#sk-container-id-1 div.sk-item::before, #sk-container-id-1 div.sk-parallel-item::before {content: \"\";position: absolute;border-left: 1px solid gray;box-sizing: border-box;top: 0;bottom: 0;left: 50%;z-index: -1;}#sk-container-id-1 div.sk-parallel-item {display: flex;flex-direction: column;z-index: 1;position: relative;background-color: white;}#sk-container-id-1 div.sk-parallel-item:first-child::after {align-self: flex-end;width: 50%;}#sk-container-id-1 div.sk-parallel-item:last-child::after {align-self: flex-start;width: 50%;}#sk-container-id-1 div.sk-parallel-item:only-child::after {width: 0;}#sk-container-id-1 div.sk-dashed-wrapped {border: 1px dashed gray;margin: 0 0.4em 0.5em 0.4em;box-sizing: border-box;padding-bottom: 0.4em;background-color: white;}#sk-container-id-1 div.sk-label label {font-family: monospace;font-weight: bold;display: inline-block;line-height: 1.2em;}#sk-container-id-1 div.sk-label-container {text-align: center;}#sk-container-id-1 div.sk-container {/* jupyter's `normalize.less` sets `[hidden] { display: none; }` but bootstrap.min.css set `[hidden] { display: none !important; }` so we also need the `!important` here to be able to override the default hidden behavior on the sphinx rendered scikit-learn.org. See: https://github.com/scikit-learn/scikit-learn/issues/21755 */display: inline-block !important;position: relative;}#sk-container-id-1 div.sk-text-repr-fallback {display: none;}</style><div id=\"sk-container-id-1\" class=\"sk-top-container\"><div class=\"sk-text-repr-fallback\"><pre>BinaryRelevance(classifier=GaussianNB(), require_dense=[True, True])</pre><b>In a Jupyter environment, please rerun this cell to show the HTML representation or trust the notebook. <br />On GitHub, the HTML representation is unable to render, please try loading this page with nbviewer.org.</b></div><div class=\"sk-container\" hidden><div class=\"sk-item sk-dashed-wrapped\"><div class=\"sk-label-container\"><div class=\"sk-label sk-toggleable\"><input class=\"sk-toggleable__control sk-hidden--visually\" id=\"sk-estimator-id-1\" type=\"checkbox\" ><label for=\"sk-estimator-id-1\" class=\"sk-toggleable__label sk-toggleable__label-arrow\">BinaryRelevance</label><div class=\"sk-toggleable__content\"><pre>BinaryRelevance(classifier=GaussianNB(), require_dense=[True, True])</pre></div></div></div><div class=\"sk-parallel\"><div class=\"sk-parallel-item\"><div class=\"sk-item\"><div class=\"sk-label-container\"><div class=\"sk-label sk-toggleable\"><input class=\"sk-toggleable__control sk-hidden--visually\" id=\"sk-estimator-id-2\" type=\"checkbox\" ><label for=\"sk-estimator-id-2\" class=\"sk-toggleable__label sk-toggleable__label-arrow\">classifier: GaussianNB</label><div class=\"sk-toggleable__content\"><pre>GaussianNB()</pre></div></div></div><div class=\"sk-serial\"><div class=\"sk-item\"><div class=\"sk-estimator sk-toggleable\"><input class=\"sk-toggleable__control sk-hidden--visually\" id=\"sk-estimator-id-3\" type=\"checkbox\" ><label for=\"sk-estimator-id-3\" class=\"sk-toggleable__label sk-toggleable__label-arrow\">GaussianNB</label><div class=\"sk-toggleable__content\"><pre>GaussianNB()</pre></div></div></div></div></div></div></div></div></div></div>"
      ],
      "text/plain": [
       "BinaryRelevance(classifier=GaussianNB(), require_dense=[True, True])"
      ]
     },
     "execution_count": 19,
     "metadata": {},
     "output_type": "execute_result"
    }
   ],
   "source": [
    "br_gnb.fit(X_train, Y_train)\n",
    "# 25 min to train if use embedding\n",
    "# 1 min to train if use protein occurence"
   ]
  },
  {
   "cell_type": "code",
   "execution_count": 20,
   "id": "32bb9870",
   "metadata": {
    "execution": {
     "iopub.execute_input": "2023-05-09T02:44:09.767700Z",
     "iopub.status.busy": "2023-05-09T02:44:09.767295Z",
     "iopub.status.idle": "2023-05-09T02:44:23.453456Z",
     "shell.execute_reply": "2023-05-09T02:44:23.452311Z"
    },
    "id": "L4MKvtegiB7H",
    "papermill": {
     "duration": 13.768284,
     "end_time": "2023-05-09T02:44:23.456124",
     "exception": false,
     "start_time": "2023-05-09T02:44:09.687840",
     "status": "completed"
    },
    "tags": []
   },
   "outputs": [],
   "source": [
    "pred_br_gnb = br_gnb.predict(X_test)\n",
    "# 19 min to test if use embedding\n",
    "# 1 min to test if use protein occurence"
   ]
  },
  {
   "cell_type": "code",
   "execution_count": 21,
   "id": "29894918",
   "metadata": {
    "execution": {
     "iopub.execute_input": "2023-05-09T02:44:23.675632Z",
     "iopub.status.busy": "2023-05-09T02:44:23.674535Z",
     "iopub.status.idle": "2023-05-09T02:44:42.422445Z",
     "shell.execute_reply": "2023-05-09T02:44:42.421320Z"
    },
    "id": "iYVWBMDJimcN",
    "outputId": "e0d73927-a246-4a73-cc2c-63c8a3fad6a8",
    "papermill": {
     "duration": 18.829215,
     "end_time": "2023-05-09T02:44:42.424650",
     "exception": false,
     "start_time": "2023-05-09T02:44:23.595435",
     "status": "completed"
    },
    "tags": []
   },
   "outputs": [
    {
     "name": "stdout",
     "output_type": "stream",
     "text": [
      "0.2636397568191104\n",
      "0.07028354903514487\n"
     ]
    }
   ],
   "source": [
    "print(f1_score(Y_test,pred_br_gnb.toarray(), average=\"micro\")) \n",
    "print(f1_score(Y_test,pred_br_gnb.toarray(), average=\"macro\"))"
   ]
  },
  {
   "cell_type": "code",
   "execution_count": 22,
   "id": "76923550",
   "metadata": {
    "execution": {
     "iopub.execute_input": "2023-05-09T02:44:42.584492Z",
     "iopub.status.busy": "2023-05-09T02:44:42.583863Z",
     "iopub.status.idle": "2023-05-09T02:44:42.592656Z",
     "shell.execute_reply": "2023-05-09T02:44:42.591842Z"
    },
    "papermill": {
     "duration": 0.091,
     "end_time": "2023-05-09T02:44:42.594641",
     "exception": false,
     "start_time": "2023-05-09T02:44:42.503641",
     "status": "completed"
    },
    "tags": []
   },
   "outputs": [],
   "source": [
    "del X\n",
    "del Y\n",
    "del X_train\n",
    "del Y_train\n",
    "del X_test\n",
    "del Y_test\n",
    "del pred_br_gnb\n",
    "del seq_df"
   ]
  },
  {
   "cell_type": "markdown",
   "id": "5fc1810f",
   "metadata": {
    "id": "69EmcUHy72fF",
    "papermill": {
     "duration": 0.079207,
     "end_time": "2023-05-09T02:44:42.751194",
     "exception": false,
     "start_time": "2023-05-09T02:44:42.671987",
     "status": "completed"
    },
    "tags": []
   },
   "source": [
    "Try on test data"
   ]
  },
  {
   "cell_type": "code",
   "execution_count": 23,
   "id": "24c4303f",
   "metadata": {
    "execution": {
     "iopub.execute_input": "2023-05-09T02:44:42.910497Z",
     "iopub.status.busy": "2023-05-09T02:44:42.910096Z",
     "iopub.status.idle": "2023-05-09T02:44:44.661931Z",
     "shell.execute_reply": "2023-05-09T02:44:44.660548Z"
    },
    "id": "lPxg4wMT73lB",
    "outputId": "a2b12137-db22-42a5-f550-65bcdc3f63cf",
    "papermill": {
     "duration": 1.83413,
     "end_time": "2023-05-09T02:44:44.664328",
     "exception": false,
     "start_time": "2023-05-09T02:44:42.830198",
     "status": "completed"
    },
    "tags": []
   },
   "outputs": [
    {
     "name": "stdout",
     "output_type": "stream",
     "text": [
      "141865\n"
     ]
    }
   ],
   "source": [
    "test_id = []\n",
    "test_seq = []\n",
    "\n",
    "for seq_record in SeqIO.parse(\".../testsuperset.fasta\", \"fasta\"):\n",
    "  test_id.append(seq_record.id)\n",
    "  test_seq.append(str(seq_record.seq))\n",
    "\n",
    "print(len(test_id))"
   ]
  },
  {
   "cell_type": "code",
   "execution_count": 24,
   "id": "7de254a3",
   "metadata": {
    "execution": {
     "iopub.execute_input": "2023-05-09T02:44:44.823446Z",
     "iopub.status.busy": "2023-05-09T02:44:44.823038Z",
     "iopub.status.idle": "2023-05-09T02:44:44.873255Z",
     "shell.execute_reply": "2023-05-09T02:44:44.871967Z"
    },
    "id": "YKWiz-QhC0QJ",
    "outputId": "388442c8-0252-4e21-e5af-00852491b785",
    "papermill": {
     "duration": 0.132549,
     "end_time": "2023-05-09T02:44:44.875734",
     "exception": false,
     "start_time": "2023-05-09T02:44:44.743185",
     "status": "completed"
    },
    "tags": []
   },
   "outputs": [
    {
     "data": {
      "text/html": [
       "<div>\n",
       "<style scoped>\n",
       "    .dataframe tbody tr th:only-of-type {\n",
       "        vertical-align: middle;\n",
       "    }\n",
       "\n",
       "    .dataframe tbody tr th {\n",
       "        vertical-align: top;\n",
       "    }\n",
       "\n",
       "    .dataframe thead th {\n",
       "        text-align: right;\n",
       "    }\n",
       "</style>\n",
       "<table border=\"1\" class=\"dataframe\">\n",
       "  <thead>\n",
       "    <tr style=\"text-align: right;\">\n",
       "      <th></th>\n",
       "      <th>id</th>\n",
       "      <th>sequence</th>\n",
       "    </tr>\n",
       "  </thead>\n",
       "  <tbody>\n",
       "    <tr>\n",
       "      <th>0</th>\n",
       "      <td>Q9CQV8</td>\n",
       "      <td>MTMDKSELVQKAKLAEQAERYDDMAAAMKAVTEQGHELSNEERNLL...</td>\n",
       "    </tr>\n",
       "    <tr>\n",
       "      <th>1</th>\n",
       "      <td>P62259</td>\n",
       "      <td>MDDREDLVYQAKLAEQAERYDEMVESMKKVAGMDVELTVEERNLLS...</td>\n",
       "    </tr>\n",
       "    <tr>\n",
       "      <th>2</th>\n",
       "      <td>P68510</td>\n",
       "      <td>MGDREQLLQRARLAEQAERYDDMASAMKAVTELNEPLSNEDRNLLS...</td>\n",
       "    </tr>\n",
       "    <tr>\n",
       "      <th>3</th>\n",
       "      <td>P61982</td>\n",
       "      <td>MVDREQLVQKARLAEQAERYDDMAAAMKNVTELNEPLSNEERNLLS...</td>\n",
       "    </tr>\n",
       "    <tr>\n",
       "      <th>4</th>\n",
       "      <td>O70456</td>\n",
       "      <td>MERASLIQKAKLAEQAERYEDMAAFMKSAVEKGEELSCEERNLLSV...</td>\n",
       "    </tr>\n",
       "  </tbody>\n",
       "</table>\n",
       "</div>"
      ],
      "text/plain": [
       "       id                                           sequence\n",
       "0  Q9CQV8  MTMDKSELVQKAKLAEQAERYDDMAAAMKAVTEQGHELSNEERNLL...\n",
       "1  P62259  MDDREDLVYQAKLAEQAERYDEMVESMKKVAGMDVELTVEERNLLS...\n",
       "2  P68510  MGDREQLLQRARLAEQAERYDDMASAMKAVTELNEPLSNEDRNLLS...\n",
       "3  P61982  MVDREQLVQKARLAEQAERYDDMAAAMKNVTELNEPLSNEERNLLS...\n",
       "4  O70456  MERASLIQKAKLAEQAERYEDMAAFMKSAVEKGEELSCEERNLLSV..."
      ]
     },
     "execution_count": 24,
     "metadata": {},
     "output_type": "execute_result"
    }
   ],
   "source": [
    "test_df = pd.DataFrame({\"id\": test_id, \"sequence\": test_seq})\n",
    "del test_id\n",
    "del test_seq\n",
    "test_df.head()"
   ]
  },
  {
   "cell_type": "code",
   "execution_count": 25,
   "id": "a65f215d",
   "metadata": {
    "execution": {
     "iopub.execute_input": "2023-05-09T02:44:45.037142Z",
     "iopub.status.busy": "2023-05-09T02:44:45.036315Z",
     "iopub.status.idle": "2023-05-09T02:44:45.229890Z",
     "shell.execute_reply": "2023-05-09T02:44:45.228914Z"
    },
    "id": "i-BklG-LBAvt",
    "outputId": "27c1ced5-c0c9-49e0-fc2a-e374a0c02376",
    "papermill": {
     "duration": 0.277818,
     "end_time": "2023-05-09T02:44:45.232078",
     "exception": false,
     "start_time": "2023-05-09T02:44:44.954260",
     "status": "completed"
    },
    "tags": []
   },
   "outputs": [
    {
     "data": {
      "text/html": [
       "<div>\n",
       "<style scoped>\n",
       "    .dataframe tbody tr th:only-of-type {\n",
       "        vertical-align: middle;\n",
       "    }\n",
       "\n",
       "    .dataframe tbody tr th {\n",
       "        vertical-align: top;\n",
       "    }\n",
       "\n",
       "    .dataframe thead th {\n",
       "        text-align: right;\n",
       "    }\n",
       "</style>\n",
       "<table border=\"1\" class=\"dataframe\">\n",
       "  <thead>\n",
       "    <tr style=\"text-align: right;\">\n",
       "      <th></th>\n",
       "      <th>id</th>\n",
       "      <th>sequence</th>\n",
       "    </tr>\n",
       "  </thead>\n",
       "  <tbody>\n",
       "    <tr>\n",
       "      <th>0</th>\n",
       "      <td>A0A023PXA5</td>\n",
       "      <td>MLLSELVATASSLPYTAISIHNNCRVPAARHIHHGCRYFHGPPVMH...</td>\n",
       "    </tr>\n",
       "    <tr>\n",
       "      <th>1</th>\n",
       "      <td>A0A023PXB0</td>\n",
       "      <td>MFINGFVNYPVRTPPNDLLQVVLHGFLRCPLDGSQVDSIGIGHTVH...</td>\n",
       "    </tr>\n",
       "    <tr>\n",
       "      <th>2</th>\n",
       "      <td>A0A023PXB5</td>\n",
       "      <td>MFALIISSKGKTSGFFFNSSFSSSALVGIAPLTAYSALVTPVFKSF...</td>\n",
       "    </tr>\n",
       "    <tr>\n",
       "      <th>3</th>\n",
       "      <td>A0A023PXB9</td>\n",
       "      <td>MEYVLIYNIWFFSFLQDKPCFCFVDYACSIFLLSSYCGNCLTAVAT...</td>\n",
       "    </tr>\n",
       "    <tr>\n",
       "      <th>4</th>\n",
       "      <td>A0A023PXC2</td>\n",
       "      <td>MLPLCLTFLSFFLSLGGSFKAVMTKEEADGTTEAAACLFWIFNWTV...</td>\n",
       "    </tr>\n",
       "  </tbody>\n",
       "</table>\n",
       "</div>"
      ],
      "text/plain": [
       "           id                                           sequence\n",
       "0  A0A023PXA5  MLLSELVATASSLPYTAISIHNNCRVPAARHIHHGCRYFHGPPVMH...\n",
       "1  A0A023PXB0  MFINGFVNYPVRTPPNDLLQVVLHGFLRCPLDGSQVDSIGIGHTVH...\n",
       "2  A0A023PXB5  MFALIISSKGKTSGFFFNSSFSSSALVGIAPLTAYSALVTPVFKSF...\n",
       "3  A0A023PXB9  MEYVLIYNIWFFSFLQDKPCFCFVDYACSIFLLSSYCGNCLTAVAT...\n",
       "4  A0A023PXC2  MLPLCLTFLSFFLSLGGSFKAVMTKEEADGTTEAAACLFWIFNWTV..."
      ]
     },
     "execution_count": 25,
     "metadata": {},
     "output_type": "execute_result"
    }
   ],
   "source": [
    "test_df = test_df.sort_values(\"id\").reset_index().drop(\"index\", axis = 1)\n",
    "test_df.head()"
   ]
  },
  {
   "cell_type": "code",
   "execution_count": 26,
   "id": "757aad57",
   "metadata": {
    "execution": {
     "iopub.execute_input": "2023-05-09T02:44:45.409446Z",
     "iopub.status.busy": "2023-05-09T02:44:45.409090Z",
     "iopub.status.idle": "2023-05-09T02:44:45.418055Z",
     "shell.execute_reply": "2023-05-09T02:44:45.417007Z"
    },
    "id": "_EH9xOg4d4Mn",
    "papermill": {
     "duration": 0.097941,
     "end_time": "2023-05-09T02:44:45.420097",
     "exception": false,
     "start_time": "2023-05-09T02:44:45.322156",
     "status": "completed"
    },
    "tags": []
   },
   "outputs": [],
   "source": [
    "id_lst = test_df[\"id\"].tolist()"
   ]
  },
  {
   "cell_type": "markdown",
   "id": "060b821f",
   "metadata": {
    "id": "fAt8-d94hBsB",
    "papermill": {
     "duration": 0.078228,
     "end_time": "2023-05-09T02:44:45.577749",
     "exception": false,
     "start_time": "2023-05-09T02:44:45.499521",
     "status": "completed"
    },
    "tags": []
   },
   "source": [
    "Make test data and remove all those unneeded or write the needed into disk in order to prevent ram overloading"
   ]
  },
  {
   "cell_type": "code",
   "execution_count": 27,
   "id": "fc46373c",
   "metadata": {
    "execution": {
     "iopub.execute_input": "2023-05-09T02:44:45.736070Z",
     "iopub.status.busy": "2023-05-09T02:44:45.735717Z",
     "iopub.status.idle": "2023-05-09T02:44:50.495431Z",
     "shell.execute_reply": "2023-05-09T02:44:50.494278Z"
    },
    "id": "qbM2OnbbnRYS",
    "papermill": {
     "duration": 4.842047,
     "end_time": "2023-05-09T02:44:50.497991",
     "exception": false,
     "start_time": "2023-05-09T02:44:45.655944",
     "status": "completed"
    },
    "tags": []
   },
   "outputs": [],
   "source": [
    "test_lst = []\n",
    "for s in test_df[\"sequence\"]:\n",
    "  test_lst.append(ProteinAnalysis(s).get_amino_acids_percent())\n",
    "test = pd.DataFrame(test_lst)\n",
    "test = test.values"
   ]
  },
  {
   "cell_type": "code",
   "execution_count": 28,
   "id": "fe4ff143",
   "metadata": {
    "execution": {
     "iopub.execute_input": "2023-05-09T02:44:50.658850Z",
     "iopub.status.busy": "2023-05-09T02:44:50.658507Z",
     "iopub.status.idle": "2023-05-09T02:44:50.732068Z",
     "shell.execute_reply": "2023-05-09T02:44:50.730912Z"
    },
    "id": "oTH_55k0eCRv",
    "papermill": {
     "duration": 0.156792,
     "end_time": "2023-05-09T02:44:50.734181",
     "exception": false,
     "start_time": "2023-05-09T02:44:50.577389",
     "status": "completed"
    },
    "tags": []
   },
   "outputs": [],
   "source": [
    "del test_df\n",
    "del test_lst"
   ]
  },
  {
   "cell_type": "code",
   "execution_count": 29,
   "id": "d9871238",
   "metadata": {
    "execution": {
     "iopub.execute_input": "2023-05-09T02:44:50.896143Z",
     "iopub.status.busy": "2023-05-09T02:44:50.895769Z",
     "iopub.status.idle": "2023-05-09T02:44:50.902099Z",
     "shell.execute_reply": "2023-05-09T02:44:50.901182Z"
    },
    "id": "BY195kn9X2si",
    "outputId": "55084317-3205-49c3-afce-5cb2c4f810bb",
    "papermill": {
     "duration": 0.089543,
     "end_time": "2023-05-09T02:44:50.904028",
     "exception": false,
     "start_time": "2023-05-09T02:44:50.814485",
     "status": "completed"
    },
    "tags": []
   },
   "outputs": [
    {
     "data": {
      "text/plain": [
       "(141865, 20)"
      ]
     },
     "execution_count": 29,
     "metadata": {},
     "output_type": "execute_result"
    }
   ],
   "source": [
    "test.shape"
   ]
  },
  {
   "cell_type": "code",
   "execution_count": 30,
   "id": "2440e07b",
   "metadata": {
    "execution": {
     "iopub.execute_input": "2023-05-09T02:44:51.064391Z",
     "iopub.status.busy": "2023-05-09T02:44:51.064033Z",
     "iopub.status.idle": "2023-05-09T02:44:51.069449Z",
     "shell.execute_reply": "2023-05-09T02:44:51.068430Z"
    },
    "id": "3UxrwhI8eE1M",
    "papermill": {
     "duration": 0.089115,
     "end_time": "2023-05-09T02:44:51.071659",
     "exception": false,
     "start_time": "2023-05-09T02:44:50.982544",
     "status": "completed"
    },
    "tags": []
   },
   "outputs": [],
   "source": [
    "test_sub1 = test[:30000]\n",
    "test_sub2 = test[30000:60000]\n",
    "test_sub3 = test[60000:90000]\n",
    "test_sub4 = test[90000:120000]\n",
    "test_sub5 = test[120000:]\n",
    "del test"
   ]
  },
  {
   "cell_type": "code",
   "execution_count": 31,
   "id": "8efb027b",
   "metadata": {
    "execution": {
     "iopub.execute_input": "2023-05-09T02:44:51.233220Z",
     "iopub.status.busy": "2023-05-09T02:44:51.232846Z",
     "iopub.status.idle": "2023-05-09T02:44:57.245172Z",
     "shell.execute_reply": "2023-05-09T02:44:57.244278Z"
    },
    "id": "ZR_crD68BeB7",
    "papermill": {
     "duration": 6.096277,
     "end_time": "2023-05-09T02:44:57.247795",
     "exception": false,
     "start_time": "2023-05-09T02:44:51.151518",
     "status": "completed"
    },
    "tags": []
   },
   "outputs": [],
   "source": [
    "prob_1 = br_gnb.predict(test_sub1)\n",
    "del test_sub1\n",
    "with open('prob_1.pickle', 'wb') as f:\n",
    "    pickle.dump(prob_1, f)\n",
    "del prob_1"
   ]
  },
  {
   "cell_type": "code",
   "execution_count": 32,
   "id": "6f5b9cbb",
   "metadata": {
    "execution": {
     "iopub.execute_input": "2023-05-09T02:44:57.413048Z",
     "iopub.status.busy": "2023-05-09T02:44:57.412164Z",
     "iopub.status.idle": "2023-05-09T02:44:57.616354Z",
     "shell.execute_reply": "2023-05-09T02:44:57.615292Z"
    },
    "id": "YUX0Fi4nesBu",
    "outputId": "2746b2b8-d3d8-4491-9e01-1e7864ee4fd2",
    "papermill": {
     "duration": 0.290566,
     "end_time": "2023-05-09T02:44:57.618492",
     "exception": false,
     "start_time": "2023-05-09T02:44:57.327926",
     "status": "completed"
    },
    "tags": []
   },
   "outputs": [
    {
     "data": {
      "text/plain": [
       "0"
      ]
     },
     "execution_count": 32,
     "metadata": {},
     "output_type": "execute_result"
    }
   ],
   "source": [
    "gc.collect()"
   ]
  },
  {
   "cell_type": "code",
   "execution_count": 33,
   "id": "ef1040f4",
   "metadata": {
    "execution": {
     "iopub.execute_input": "2023-05-09T02:44:57.778659Z",
     "iopub.status.busy": "2023-05-09T02:44:57.778261Z",
     "iopub.status.idle": "2023-05-09T02:45:27.372101Z",
     "shell.execute_reply": "2023-05-09T02:45:27.370852Z"
    },
    "id": "jkxeSvLyel3B",
    "papermill": {
     "duration": 29.677388,
     "end_time": "2023-05-09T02:45:27.375202",
     "exception": false,
     "start_time": "2023-05-09T02:44:57.697814",
     "status": "completed"
    },
    "tags": []
   },
   "outputs": [],
   "source": [
    "prob_2 = br_gnb.predict_proba(test_sub2)\n",
    "del test_sub2\n",
    "with open('prob_2.pickle', 'wb') as f:\n",
    "    pickle.dump(prob_2, f)\n",
    "del prob_2"
   ]
  },
  {
   "cell_type": "code",
   "execution_count": 34,
   "id": "f87f9b34",
   "metadata": {
    "execution": {
     "iopub.execute_input": "2023-05-09T02:45:27.555273Z",
     "iopub.status.busy": "2023-05-09T02:45:27.554923Z",
     "iopub.status.idle": "2023-05-09T02:45:27.774052Z",
     "shell.execute_reply": "2023-05-09T02:45:27.773056Z"
    },
    "id": "2Gi0r-q3fVIs",
    "outputId": "90c86e15-8dd4-436b-905c-24a17dc8379d",
    "papermill": {
     "duration": 0.322128,
     "end_time": "2023-05-09T02:45:27.776894",
     "exception": false,
     "start_time": "2023-05-09T02:45:27.454766",
     "status": "completed"
    },
    "tags": []
   },
   "outputs": [
    {
     "data": {
      "text/plain": [
       "0"
      ]
     },
     "execution_count": 34,
     "metadata": {},
     "output_type": "execute_result"
    }
   ],
   "source": [
    "gc.collect()"
   ]
  },
  {
   "cell_type": "code",
   "execution_count": 35,
   "id": "5358b400",
   "metadata": {
    "execution": {
     "iopub.execute_input": "2023-05-09T02:45:27.946958Z",
     "iopub.status.busy": "2023-05-09T02:45:27.946611Z",
     "iopub.status.idle": "2023-05-09T02:45:57.364813Z",
     "shell.execute_reply": "2023-05-09T02:45:57.363924Z"
    },
    "id": "RN_HfCBlfS5d",
    "papermill": {
     "duration": 29.503951,
     "end_time": "2023-05-09T02:45:57.367260",
     "exception": false,
     "start_time": "2023-05-09T02:45:27.863309",
     "status": "completed"
    },
    "tags": []
   },
   "outputs": [],
   "source": [
    "prob_3 = br_gnb.predict_proba(test_sub3)\n",
    "del test_sub3\n",
    "with open('prob_3.pickle', 'wb') as f:\n",
    "    pickle.dump(prob_3, f)\n",
    "del prob_3"
   ]
  },
  {
   "cell_type": "code",
   "execution_count": 36,
   "id": "c36dcaff",
   "metadata": {
    "execution": {
     "iopub.execute_input": "2023-05-09T02:45:57.536847Z",
     "iopub.status.busy": "2023-05-09T02:45:57.536159Z",
     "iopub.status.idle": "2023-05-09T02:45:57.766838Z",
     "shell.execute_reply": "2023-05-09T02:45:57.765566Z"
    },
    "id": "RBmAv592fjdn",
    "outputId": "35c724e4-da47-4206-8259-3aab1a040174",
    "papermill": {
     "duration": 0.317895,
     "end_time": "2023-05-09T02:45:57.769379",
     "exception": false,
     "start_time": "2023-05-09T02:45:57.451484",
     "status": "completed"
    },
    "tags": []
   },
   "outputs": [
    {
     "data": {
      "text/plain": [
       "0"
      ]
     },
     "execution_count": 36,
     "metadata": {},
     "output_type": "execute_result"
    }
   ],
   "source": [
    "gc.collect()"
   ]
  },
  {
   "cell_type": "code",
   "execution_count": 37,
   "id": "ff38c820",
   "metadata": {
    "execution": {
     "iopub.execute_input": "2023-05-09T02:45:57.937893Z",
     "iopub.status.busy": "2023-05-09T02:45:57.937019Z",
     "iopub.status.idle": "2023-05-09T02:46:27.413756Z",
     "shell.execute_reply": "2023-05-09T02:46:27.412812Z"
    },
    "id": "vxOyv-EYfoLK",
    "papermill": {
     "duration": 29.562022,
     "end_time": "2023-05-09T02:46:27.416244",
     "exception": false,
     "start_time": "2023-05-09T02:45:57.854222",
     "status": "completed"
    },
    "tags": []
   },
   "outputs": [],
   "source": [
    "prob_4 = br_gnb.predict_proba(test_sub4)\n",
    "del test_sub4\n",
    "with open('prob_4.pickle', 'wb') as f:\n",
    "    pickle.dump(prob_4, f)\n",
    "del prob_4"
   ]
  },
  {
   "cell_type": "code",
   "execution_count": 38,
   "id": "234759a5",
   "metadata": {
    "execution": {
     "iopub.execute_input": "2023-05-09T02:46:27.578511Z",
     "iopub.status.busy": "2023-05-09T02:46:27.577991Z",
     "iopub.status.idle": "2023-05-09T02:46:27.780126Z",
     "shell.execute_reply": "2023-05-09T02:46:27.779111Z"
    },
    "id": "bLN5v4UzfsDU",
    "outputId": "f6d127a2-ccea-42f3-8ef2-3d4b10600f9c",
    "papermill": {
     "duration": 0.284955,
     "end_time": "2023-05-09T02:46:27.782141",
     "exception": false,
     "start_time": "2023-05-09T02:46:27.497186",
     "status": "completed"
    },
    "tags": []
   },
   "outputs": [
    {
     "data": {
      "text/plain": [
       "0"
      ]
     },
     "execution_count": 38,
     "metadata": {},
     "output_type": "execute_result"
    }
   ],
   "source": [
    "gc.collect()"
   ]
  },
  {
   "cell_type": "code",
   "execution_count": 39,
   "id": "7c2e2679",
   "metadata": {
    "execution": {
     "iopub.execute_input": "2023-05-09T02:46:27.942907Z",
     "iopub.status.busy": "2023-05-09T02:46:27.942531Z",
     "iopub.status.idle": "2023-05-09T02:46:49.918227Z",
     "shell.execute_reply": "2023-05-09T02:46:49.917180Z"
    },
    "id": "u0fMyuQZftVe",
    "papermill": {
     "duration": 22.058667,
     "end_time": "2023-05-09T02:46:49.920603",
     "exception": false,
     "start_time": "2023-05-09T02:46:27.861936",
     "status": "completed"
    },
    "tags": []
   },
   "outputs": [],
   "source": [
    "prob_5 = br_gnb.predict_proba(test_sub5)\n",
    "del test_sub5\n",
    "with open('prob_5.pickle', 'wb') as f:\n",
    "    pickle.dump(prob_5, f)\n",
    "del prob_5"
   ]
  },
  {
   "cell_type": "code",
   "execution_count": 40,
   "id": "a5f5360d",
   "metadata": {
    "execution": {
     "iopub.execute_input": "2023-05-09T02:46:50.081996Z",
     "iopub.status.busy": "2023-05-09T02:46:50.081637Z",
     "iopub.status.idle": "2023-05-09T02:46:50.285604Z",
     "shell.execute_reply": "2023-05-09T02:46:50.284532Z"
    },
    "id": "9EfSGi_4hjiX",
    "outputId": "ac0eee7e-934e-4008-ede7-30bb8adef834",
    "papermill": {
     "duration": 0.287469,
     "end_time": "2023-05-09T02:46:50.287756",
     "exception": false,
     "start_time": "2023-05-09T02:46:50.000287",
     "status": "completed"
    },
    "tags": []
   },
   "outputs": [
    {
     "data": {
      "text/plain": [
       "0"
      ]
     },
     "execution_count": 40,
     "metadata": {},
     "output_type": "execute_result"
    }
   ],
   "source": [
    "gc.collect()"
   ]
  },
  {
   "cell_type": "markdown",
   "id": "441ec426",
   "metadata": {
    "id": "3u5nbkxCiVyM",
    "papermill": {
     "duration": 0.08016,
     "end_time": "2023-05-09T02:46:50.449220",
     "exception": false,
     "start_time": "2023-05-09T02:46:50.369060",
     "status": "completed"
    },
    "tags": []
   },
   "source": [
    "Now concat the data with the label"
   ]
  },
  {
   "cell_type": "code",
   "execution_count": 41,
   "id": "7ddce637",
   "metadata": {
    "execution": {
     "iopub.execute_input": "2023-05-09T02:46:50.611790Z",
     "iopub.status.busy": "2023-05-09T02:46:50.611392Z",
     "iopub.status.idle": "2023-05-09T02:46:50.618394Z",
     "shell.execute_reply": "2023-05-09T02:46:50.617450Z"
    },
    "id": "X6iNcajii9pt",
    "papermill": {
     "duration": 0.089891,
     "end_time": "2023-05-09T02:46:50.620407",
     "exception": false,
     "start_time": "2023-05-09T02:46:50.530516",
     "status": "completed"
    },
    "tags": []
   },
   "outputs": [],
   "source": [
    "final_df = pd.DataFrame(columns = [\"id\", \"terms\", \"prob\"])"
   ]
  },
  {
   "cell_type": "code",
   "execution_count": 42,
   "id": "4c9424e2",
   "metadata": {
    "execution": {
     "iopub.execute_input": "2023-05-09T02:46:50.781938Z",
     "iopub.status.busy": "2023-05-09T02:46:50.780890Z",
     "iopub.status.idle": "2023-05-09T02:47:00.369522Z",
     "shell.execute_reply": "2023-05-09T02:47:00.368429Z"
    },
    "id": "No2mXCynjLoQ",
    "papermill": {
     "duration": 9.671534,
     "end_time": "2023-05-09T02:47:00.372042",
     "exception": false,
     "start_time": "2023-05-09T02:46:50.700508",
     "status": "completed"
    },
    "tags": []
   },
   "outputs": [],
   "source": [
    "final_df[\"id\"] = [id_lst[i] for i in range(30000) for _ in range(1000)]"
   ]
  },
  {
   "cell_type": "code",
   "execution_count": 43,
   "id": "31f6ba6d",
   "metadata": {
    "execution": {
     "iopub.execute_input": "2023-05-09T02:47:00.536944Z",
     "iopub.status.busy": "2023-05-09T02:47:00.536561Z",
     "iopub.status.idle": "2023-05-09T02:47:02.722595Z",
     "shell.execute_reply": "2023-05-09T02:47:02.721450Z"
    },
    "id": "4yIn5FhNj_nd",
    "papermill": {
     "duration": 2.272367,
     "end_time": "2023-05-09T02:47:02.725182",
     "exception": false,
     "start_time": "2023-05-09T02:47:00.452815",
     "status": "completed"
    },
    "tags": []
   },
   "outputs": [],
   "source": [
    "final_df[\"terms\"] = considered_one * 30000"
   ]
  },
  {
   "cell_type": "code",
   "execution_count": 44,
   "id": "0fa091ce",
   "metadata": {
    "execution": {
     "iopub.execute_input": "2023-05-09T02:47:02.888152Z",
     "iopub.status.busy": "2023-05-09T02:47:02.887561Z",
     "iopub.status.idle": "2023-05-09T02:47:02.897052Z",
     "shell.execute_reply": "2023-05-09T02:47:02.896228Z"
    },
    "id": "Azm_hKXdhlRm",
    "outputId": "b19e5eb1-f4b3-44ba-8da0-3da05fb815d1",
    "papermill": {
     "duration": 0.093522,
     "end_time": "2023-05-09T02:47:02.898979",
     "exception": false,
     "start_time": "2023-05-09T02:47:02.805457",
     "status": "completed"
    },
    "tags": []
   },
   "outputs": [
    {
     "data": {
      "text/plain": [
       "(30000, 1000)"
      ]
     },
     "execution_count": 44,
     "metadata": {},
     "output_type": "execute_result"
    }
   ],
   "source": [
    "with open('prob_1.pickle', 'rb') as f:\n",
    "    prob_1 = pickle.load(f)\n",
    "prob_1.shape"
   ]
  },
  {
   "cell_type": "code",
   "execution_count": 45,
   "id": "1b8512b8",
   "metadata": {
    "execution": {
     "iopub.execute_input": "2023-05-09T02:47:03.061045Z",
     "iopub.status.busy": "2023-05-09T02:47:03.060444Z",
     "iopub.status.idle": "2023-05-09T02:47:03.409030Z",
     "shell.execute_reply": "2023-05-09T02:47:03.407814Z"
    },
    "id": "NySnzVJzkVIr",
    "papermill": {
     "duration": 0.432286,
     "end_time": "2023-05-09T02:47:03.411728",
     "exception": false,
     "start_time": "2023-05-09T02:47:02.979442",
     "status": "completed"
    },
    "tags": []
   },
   "outputs": [],
   "source": [
    "prob_1 = prob_1.toarray().ravel()"
   ]
  },
  {
   "cell_type": "code",
   "execution_count": 46,
   "id": "80ef2e23",
   "metadata": {
    "execution": {
     "iopub.execute_input": "2023-05-09T02:47:03.636962Z",
     "iopub.status.busy": "2023-05-09T02:47:03.636532Z",
     "iopub.status.idle": "2023-05-09T02:47:03.847573Z",
     "shell.execute_reply": "2023-05-09T02:47:03.846458Z"
    },
    "id": "FniASMrfkMaK",
    "papermill": {
     "duration": 0.357783,
     "end_time": "2023-05-09T02:47:03.850180",
     "exception": false,
     "start_time": "2023-05-09T02:47:03.492397",
     "status": "completed"
    },
    "tags": []
   },
   "outputs": [],
   "source": [
    "final_df[\"prob\"] = prob_1"
   ]
  },
  {
   "cell_type": "code",
   "execution_count": 47,
   "id": "debd0ffc",
   "metadata": {
    "execution": {
     "iopub.execute_input": "2023-05-09T02:47:04.012247Z",
     "iopub.status.busy": "2023-05-09T02:47:04.011882Z",
     "iopub.status.idle": "2023-05-09T02:47:04.016759Z",
     "shell.execute_reply": "2023-05-09T02:47:04.016002Z"
    },
    "id": "LtpyyWwUkSJb",
    "papermill": {
     "duration": 0.087797,
     "end_time": "2023-05-09T02:47:04.018524",
     "exception": false,
     "start_time": "2023-05-09T02:47:03.930727",
     "status": "completed"
    },
    "tags": []
   },
   "outputs": [],
   "source": [
    "del prob_1"
   ]
  },
  {
   "cell_type": "code",
   "execution_count": 48,
   "id": "10541da8",
   "metadata": {
    "execution": {
     "iopub.execute_input": "2023-05-09T02:47:04.181823Z",
     "iopub.status.busy": "2023-05-09T02:47:04.181130Z",
     "iopub.status.idle": "2023-05-09T02:47:06.705063Z",
     "shell.execute_reply": "2023-05-09T02:47:06.703944Z"
    },
    "id": "EQziqbSGkU6Y",
    "papermill": {
     "duration": 2.607555,
     "end_time": "2023-05-09T02:47:06.707307",
     "exception": false,
     "start_time": "2023-05-09T02:47:04.099752",
     "status": "completed"
    },
    "tags": []
   },
   "outputs": [],
   "source": [
    "final_df = final_df[final_df[\"prob\"] >= 0.6]"
   ]
  },
  {
   "cell_type": "code",
   "execution_count": 49,
   "id": "61045c08",
   "metadata": {
    "execution": {
     "iopub.execute_input": "2023-05-09T02:47:06.870376Z",
     "iopub.status.busy": "2023-05-09T02:47:06.869386Z",
     "iopub.status.idle": "2023-05-09T02:47:06.874982Z",
     "shell.execute_reply": "2023-05-09T02:47:06.874310Z"
    },
    "id": "VXG3YNaAmLGf",
    "outputId": "0f8c402f-92a3-490f-ef39-3e7934f8cabf",
    "papermill": {
     "duration": 0.088917,
     "end_time": "2023-05-09T02:47:06.876699",
     "exception": false,
     "start_time": "2023-05-09T02:47:06.787782",
     "status": "completed"
    },
    "tags": []
   },
   "outputs": [
    {
     "data": {
      "text/plain": [
       "(889389, 3)"
      ]
     },
     "execution_count": 49,
     "metadata": {},
     "output_type": "execute_result"
    }
   ],
   "source": [
    "final_df.shape"
   ]
  },
  {
   "cell_type": "code",
   "execution_count": 50,
   "id": "570a9930",
   "metadata": {
    "execution": {
     "iopub.execute_input": "2023-05-09T02:47:07.039243Z",
     "iopub.status.busy": "2023-05-09T02:47:07.038336Z",
     "iopub.status.idle": "2023-05-09T02:47:07.238665Z",
     "shell.execute_reply": "2023-05-09T02:47:07.237886Z"
    },
    "id": "UjArfQlBm_eC",
    "outputId": "69414b89-5b45-4d46-f12c-9829150c1a53",
    "papermill": {
     "duration": 0.283655,
     "end_time": "2023-05-09T02:47:07.240544",
     "exception": false,
     "start_time": "2023-05-09T02:47:06.956889",
     "status": "completed"
    },
    "tags": []
   },
   "outputs": [
    {
     "data": {
      "text/plain": [
       "13"
      ]
     },
     "execution_count": 50,
     "metadata": {},
     "output_type": "execute_result"
    }
   ],
   "source": [
    "gc.collect()"
   ]
  },
  {
   "cell_type": "code",
   "execution_count": 51,
   "id": "20589768",
   "metadata": {
    "execution": {
     "iopub.execute_input": "2023-05-09T02:47:07.411145Z",
     "iopub.status.busy": "2023-05-09T02:47:07.410571Z",
     "iopub.status.idle": "2023-05-09T02:47:07.416956Z",
     "shell.execute_reply": "2023-05-09T02:47:07.415874Z"
    },
    "id": "AnPqXtBbmm1c",
    "papermill": {
     "duration": 0.092535,
     "end_time": "2023-05-09T02:47:07.419211",
     "exception": false,
     "start_time": "2023-05-09T02:47:07.326676",
     "status": "completed"
    },
    "tags": []
   },
   "outputs": [],
   "source": [
    "temp_df = pd.DataFrame(columns = [\"id\", \"terms\", \"prob\"])"
   ]
  },
  {
   "cell_type": "code",
   "execution_count": 52,
   "id": "5ea8e413",
   "metadata": {
    "execution": {
     "iopub.execute_input": "2023-05-09T02:47:07.585083Z",
     "iopub.status.busy": "2023-05-09T02:47:07.584739Z",
     "iopub.status.idle": "2023-05-09T02:47:16.981529Z",
     "shell.execute_reply": "2023-05-09T02:47:16.980720Z"
    },
    "id": "GnKqNRHVmqjM",
    "papermill": {
     "duration": 9.482553,
     "end_time": "2023-05-09T02:47:16.983708",
     "exception": false,
     "start_time": "2023-05-09T02:47:07.501155",
     "status": "completed"
    },
    "tags": []
   },
   "outputs": [],
   "source": [
    "temp_df[\"id\"] = [id_lst[i] for i in range(30000, 60000) for _ in range(1000)]"
   ]
  },
  {
   "cell_type": "code",
   "execution_count": 53,
   "id": "f8b4d22f",
   "metadata": {
    "execution": {
     "iopub.execute_input": "2023-05-09T02:47:17.148683Z",
     "iopub.status.busy": "2023-05-09T02:47:17.148029Z",
     "iopub.status.idle": "2023-05-09T02:47:19.264723Z",
     "shell.execute_reply": "2023-05-09T02:47:19.263746Z"
    },
    "id": "H0zf9oagmx8X",
    "papermill": {
     "duration": 2.203133,
     "end_time": "2023-05-09T02:47:19.268089",
     "exception": false,
     "start_time": "2023-05-09T02:47:17.064956",
     "status": "completed"
    },
    "tags": []
   },
   "outputs": [],
   "source": [
    "temp_df[\"terms\"] = considered_one * 30000"
   ]
  },
  {
   "cell_type": "code",
   "execution_count": 54,
   "id": "2df24a0c",
   "metadata": {
    "execution": {
     "iopub.execute_input": "2023-05-09T02:47:19.452531Z",
     "iopub.status.busy": "2023-05-09T02:47:19.451850Z",
     "iopub.status.idle": "2023-05-09T02:47:23.473586Z",
     "shell.execute_reply": "2023-05-09T02:47:23.472535Z"
    },
    "id": "jNau-0MIm5PU",
    "papermill": {
     "duration": 4.106476,
     "end_time": "2023-05-09T02:47:23.476083",
     "exception": false,
     "start_time": "2023-05-09T02:47:19.369607",
     "status": "completed"
    },
    "tags": []
   },
   "outputs": [],
   "source": [
    "with open('prob_2.pickle', 'rb') as f:\n",
    "    prob_2 = pickle.load(f)"
   ]
  },
  {
   "cell_type": "code",
   "execution_count": 55,
   "id": "a4cbfc9f",
   "metadata": {
    "execution": {
     "iopub.execute_input": "2023-05-09T02:47:23.640580Z",
     "iopub.status.busy": "2023-05-09T02:47:23.640143Z",
     "iopub.status.idle": "2023-05-09T02:47:34.926000Z",
     "shell.execute_reply": "2023-05-09T02:47:34.925117Z"
    },
    "id": "UBTek2v3m9DD",
    "papermill": {
     "duration": 11.369999,
     "end_time": "2023-05-09T02:47:34.928374",
     "exception": false,
     "start_time": "2023-05-09T02:47:23.558375",
     "status": "completed"
    },
    "tags": []
   },
   "outputs": [],
   "source": [
    "prob_2 = prob_2.toarray().ravel()"
   ]
  },
  {
   "cell_type": "code",
   "execution_count": 56,
   "id": "76c76866",
   "metadata": {
    "execution": {
     "iopub.execute_input": "2023-05-09T02:47:35.093677Z",
     "iopub.status.busy": "2023-05-09T02:47:35.093058Z",
     "iopub.status.idle": "2023-05-09T02:47:35.304681Z",
     "shell.execute_reply": "2023-05-09T02:47:35.303608Z"
    },
    "id": "LnQn1qNunJFX",
    "papermill": {
     "duration": 0.297877,
     "end_time": "2023-05-09T02:47:35.307289",
     "exception": false,
     "start_time": "2023-05-09T02:47:35.009412",
     "status": "completed"
    },
    "tags": []
   },
   "outputs": [],
   "source": [
    "temp_df[\"prob\"] = prob_2"
   ]
  },
  {
   "cell_type": "code",
   "execution_count": 57,
   "id": "a75d5bc6",
   "metadata": {
    "execution": {
     "iopub.execute_input": "2023-05-09T02:47:35.471542Z",
     "iopub.status.busy": "2023-05-09T02:47:35.471133Z",
     "iopub.status.idle": "2023-05-09T02:47:35.491513Z",
     "shell.execute_reply": "2023-05-09T02:47:35.490562Z"
    },
    "id": "6qPdMSTBnKnl",
    "papermill": {
     "duration": 0.10492,
     "end_time": "2023-05-09T02:47:35.493562",
     "exception": false,
     "start_time": "2023-05-09T02:47:35.388642",
     "status": "completed"
    },
    "tags": []
   },
   "outputs": [],
   "source": [
    "del prob_2"
   ]
  },
  {
   "cell_type": "code",
   "execution_count": 58,
   "id": "999ac977",
   "metadata": {
    "execution": {
     "iopub.execute_input": "2023-05-09T02:47:35.658913Z",
     "iopub.status.busy": "2023-05-09T02:47:35.658562Z",
     "iopub.status.idle": "2023-05-09T02:47:38.167363Z",
     "shell.execute_reply": "2023-05-09T02:47:38.166607Z"
    },
    "id": "O7Jo9bJYnOX-",
    "papermill": {
     "duration": 2.593591,
     "end_time": "2023-05-09T02:47:38.169567",
     "exception": false,
     "start_time": "2023-05-09T02:47:35.575976",
     "status": "completed"
    },
    "tags": []
   },
   "outputs": [],
   "source": [
    "temp_df = temp_df[temp_df[\"prob\"] >= 0.6]"
   ]
  },
  {
   "cell_type": "code",
   "execution_count": 59,
   "id": "395858de",
   "metadata": {
    "execution": {
     "iopub.execute_input": "2023-05-09T02:47:38.333773Z",
     "iopub.status.busy": "2023-05-09T02:47:38.332726Z",
     "iopub.status.idle": "2023-05-09T02:47:38.339251Z",
     "shell.execute_reply": "2023-05-09T02:47:38.338361Z"
    },
    "id": "PmWBzhCKnSuR",
    "outputId": "969f23c3-d207-4c42-e5c3-d91526eae699",
    "papermill": {
     "duration": 0.090548,
     "end_time": "2023-05-09T02:47:38.341168",
     "exception": false,
     "start_time": "2023-05-09T02:47:38.250620",
     "status": "completed"
    },
    "tags": []
   },
   "outputs": [
    {
     "data": {
      "text/plain": [
       "(597785, 3)"
      ]
     },
     "execution_count": 59,
     "metadata": {},
     "output_type": "execute_result"
    }
   ],
   "source": [
    "temp_df.shape"
   ]
  },
  {
   "cell_type": "code",
   "execution_count": 60,
   "id": "e0b07b87",
   "metadata": {
    "execution": {
     "iopub.execute_input": "2023-05-09T02:47:38.505222Z",
     "iopub.status.busy": "2023-05-09T02:47:38.504852Z",
     "iopub.status.idle": "2023-05-09T02:47:38.618777Z",
     "shell.execute_reply": "2023-05-09T02:47:38.617782Z"
    },
    "id": "R4QOfhxEnU8-",
    "papermill": {
     "duration": 0.199272,
     "end_time": "2023-05-09T02:47:38.621205",
     "exception": false,
     "start_time": "2023-05-09T02:47:38.421933",
     "status": "completed"
    },
    "tags": []
   },
   "outputs": [],
   "source": [
    "final_df = pd.concat([final_df, temp_df])\n",
    "del temp_df\n",
    "final_df = final_df.reset_index().drop(\"index\", axis = 1)"
   ]
  },
  {
   "cell_type": "code",
   "execution_count": 61,
   "id": "e6f01f10",
   "metadata": {
    "execution": {
     "iopub.execute_input": "2023-05-09T02:47:38.784644Z",
     "iopub.status.busy": "2023-05-09T02:47:38.784264Z",
     "iopub.status.idle": "2023-05-09T02:47:38.987410Z",
     "shell.execute_reply": "2023-05-09T02:47:38.986409Z"
    },
    "id": "IxQQlgQhnx5l",
    "outputId": "21e026ce-1b94-4096-aa01-e12075156242",
    "papermill": {
     "duration": 0.28743,
     "end_time": "2023-05-09T02:47:38.989451",
     "exception": false,
     "start_time": "2023-05-09T02:47:38.702021",
     "status": "completed"
    },
    "tags": []
   },
   "outputs": [
    {
     "data": {
      "text/plain": [
       "0"
      ]
     },
     "execution_count": 61,
     "metadata": {},
     "output_type": "execute_result"
    }
   ],
   "source": [
    "gc.collect()"
   ]
  },
  {
   "cell_type": "code",
   "execution_count": 62,
   "id": "2b175600",
   "metadata": {
    "execution": {
     "iopub.execute_input": "2023-05-09T02:47:39.155365Z",
     "iopub.status.busy": "2023-05-09T02:47:39.154996Z",
     "iopub.status.idle": "2023-05-09T02:47:39.161516Z",
     "shell.execute_reply": "2023-05-09T02:47:39.160355Z"
    },
    "id": "AKph4bP2n2UK",
    "papermill": {
     "duration": 0.092775,
     "end_time": "2023-05-09T02:47:39.163441",
     "exception": false,
     "start_time": "2023-05-09T02:47:39.070666",
     "status": "completed"
    },
    "tags": []
   },
   "outputs": [],
   "source": [
    "temp_df = pd.DataFrame(columns = [\"id\", \"terms\", \"prob\"])"
   ]
  },
  {
   "cell_type": "code",
   "execution_count": 63,
   "id": "4ebc985b",
   "metadata": {
    "execution": {
     "iopub.execute_input": "2023-05-09T02:47:39.327369Z",
     "iopub.status.busy": "2023-05-09T02:47:39.326990Z",
     "iopub.status.idle": "2023-05-09T02:47:48.857035Z",
     "shell.execute_reply": "2023-05-09T02:47:48.855925Z"
    },
    "id": "Zq1H5gwbn6i4",
    "papermill": {
     "duration": 9.614276,
     "end_time": "2023-05-09T02:47:48.859592",
     "exception": false,
     "start_time": "2023-05-09T02:47:39.245316",
     "status": "completed"
    },
    "tags": []
   },
   "outputs": [],
   "source": [
    "temp_df[\"id\"] = [id_lst[i] for i in range(60000, 90000) for _ in range(1000)]"
   ]
  },
  {
   "cell_type": "code",
   "execution_count": 64,
   "id": "0ff1a0e1",
   "metadata": {
    "execution": {
     "iopub.execute_input": "2023-05-09T02:47:49.024676Z",
     "iopub.status.busy": "2023-05-09T02:47:49.024278Z",
     "iopub.status.idle": "2023-05-09T02:47:51.130397Z",
     "shell.execute_reply": "2023-05-09T02:47:51.129332Z"
    },
    "id": "t9WNL9MOn-Dc",
    "papermill": {
     "duration": 2.191182,
     "end_time": "2023-05-09T02:47:51.132965",
     "exception": false,
     "start_time": "2023-05-09T02:47:48.941783",
     "status": "completed"
    },
    "tags": []
   },
   "outputs": [],
   "source": [
    "temp_df[\"terms\"] = considered_one * 30000"
   ]
  },
  {
   "cell_type": "code",
   "execution_count": 65,
   "id": "a2818cce",
   "metadata": {
    "execution": {
     "iopub.execute_input": "2023-05-09T02:47:51.300744Z",
     "iopub.status.busy": "2023-05-09T02:47:51.300100Z",
     "iopub.status.idle": "2023-05-09T02:47:55.197504Z",
     "shell.execute_reply": "2023-05-09T02:47:55.196431Z"
    },
    "id": "XXsYg5cloOG-",
    "papermill": {
     "duration": 3.984961,
     "end_time": "2023-05-09T02:47:55.200008",
     "exception": false,
     "start_time": "2023-05-09T02:47:51.215047",
     "status": "completed"
    },
    "tags": []
   },
   "outputs": [],
   "source": [
    "with open('prob_3.pickle', 'rb') as f:\n",
    "    prob_3 = pickle.load(f)"
   ]
  },
  {
   "cell_type": "code",
   "execution_count": 66,
   "id": "c78dfda7",
   "metadata": {
    "execution": {
     "iopub.execute_input": "2023-05-09T02:47:55.364663Z",
     "iopub.status.busy": "2023-05-09T02:47:55.364257Z",
     "iopub.status.idle": "2023-05-09T02:48:06.763384Z",
     "shell.execute_reply": "2023-05-09T02:48:06.762257Z"
    },
    "id": "oHmNj5fxoRfk",
    "papermill": {
     "duration": 11.484084,
     "end_time": "2023-05-09T02:48:06.765995",
     "exception": false,
     "start_time": "2023-05-09T02:47:55.281911",
     "status": "completed"
    },
    "tags": []
   },
   "outputs": [],
   "source": [
    "prob_3 = prob_3.toarray().ravel()"
   ]
  },
  {
   "cell_type": "code",
   "execution_count": 67,
   "id": "0ac30f7b",
   "metadata": {
    "execution": {
     "iopub.execute_input": "2023-05-09T02:48:06.930877Z",
     "iopub.status.busy": "2023-05-09T02:48:06.930493Z",
     "iopub.status.idle": "2023-05-09T02:48:07.143333Z",
     "shell.execute_reply": "2023-05-09T02:48:07.142263Z"
    },
    "id": "IqajxqDGojt-",
    "papermill": {
     "duration": 0.297986,
     "end_time": "2023-05-09T02:48:07.145768",
     "exception": false,
     "start_time": "2023-05-09T02:48:06.847782",
     "status": "completed"
    },
    "tags": []
   },
   "outputs": [],
   "source": [
    "temp_df[\"prob\"] = prob_3"
   ]
  },
  {
   "cell_type": "code",
   "execution_count": 68,
   "id": "6d74fc2f",
   "metadata": {
    "execution": {
     "iopub.execute_input": "2023-05-09T02:48:07.313232Z",
     "iopub.status.busy": "2023-05-09T02:48:07.312424Z",
     "iopub.status.idle": "2023-05-09T02:48:07.333505Z",
     "shell.execute_reply": "2023-05-09T02:48:07.332316Z"
    },
    "id": "oYMTLSRAomDu",
    "papermill": {
     "duration": 0.107922,
     "end_time": "2023-05-09T02:48:07.335870",
     "exception": false,
     "start_time": "2023-05-09T02:48:07.227948",
     "status": "completed"
    },
    "tags": []
   },
   "outputs": [],
   "source": [
    "del prob_3"
   ]
  },
  {
   "cell_type": "code",
   "execution_count": 69,
   "id": "81a5fcc2",
   "metadata": {
    "execution": {
     "iopub.execute_input": "2023-05-09T02:48:07.502134Z",
     "iopub.status.busy": "2023-05-09T02:48:07.501414Z",
     "iopub.status.idle": "2023-05-09T02:48:10.032915Z",
     "shell.execute_reply": "2023-05-09T02:48:10.031879Z"
    },
    "id": "JzK6bFBRon0j",
    "papermill": {
     "duration": 2.617975,
     "end_time": "2023-05-09T02:48:10.035281",
     "exception": false,
     "start_time": "2023-05-09T02:48:07.417306",
     "status": "completed"
    },
    "tags": []
   },
   "outputs": [],
   "source": [
    "temp_df = temp_df[temp_df[\"prob\"] >= 0.6]"
   ]
  },
  {
   "cell_type": "code",
   "execution_count": 70,
   "id": "7c730e5b",
   "metadata": {
    "execution": {
     "iopub.execute_input": "2023-05-09T02:48:10.201365Z",
     "iopub.status.busy": "2023-05-09T02:48:10.201009Z",
     "iopub.status.idle": "2023-05-09T02:48:10.207308Z",
     "shell.execute_reply": "2023-05-09T02:48:10.206281Z"
    },
    "id": "7j1z-_HyoyDz",
    "outputId": "59ba98a5-7a17-4492-8b9f-7d4c5499fff6",
    "papermill": {
     "duration": 0.091658,
     "end_time": "2023-05-09T02:48:10.209299",
     "exception": false,
     "start_time": "2023-05-09T02:48:10.117641",
     "status": "completed"
    },
    "tags": []
   },
   "outputs": [
    {
     "data": {
      "text/plain": [
       "(658131, 3)"
      ]
     },
     "execution_count": 70,
     "metadata": {},
     "output_type": "execute_result"
    }
   ],
   "source": [
    "temp_df.shape"
   ]
  },
  {
   "cell_type": "code",
   "execution_count": 71,
   "id": "8d3450c5",
   "metadata": {
    "execution": {
     "iopub.execute_input": "2023-05-09T02:48:10.374305Z",
     "iopub.status.busy": "2023-05-09T02:48:10.373724Z",
     "iopub.status.idle": "2023-05-09T02:48:10.537011Z",
     "shell.execute_reply": "2023-05-09T02:48:10.535886Z"
    },
    "id": "TL_4hdENoupi",
    "papermill": {
     "duration": 0.248471,
     "end_time": "2023-05-09T02:48:10.539636",
     "exception": false,
     "start_time": "2023-05-09T02:48:10.291165",
     "status": "completed"
    },
    "tags": []
   },
   "outputs": [],
   "source": [
    "final_df = pd.concat([final_df, temp_df])\n",
    "del temp_df\n",
    "final_df = final_df.reset_index().drop(\"index\", axis = 1)"
   ]
  },
  {
   "cell_type": "code",
   "execution_count": 72,
   "id": "0fcc2212",
   "metadata": {
    "execution": {
     "iopub.execute_input": "2023-05-09T02:48:10.707751Z",
     "iopub.status.busy": "2023-05-09T02:48:10.707337Z",
     "iopub.status.idle": "2023-05-09T02:48:10.926878Z",
     "shell.execute_reply": "2023-05-09T02:48:10.925697Z"
    },
    "id": "agZyY26rozd0",
    "outputId": "d02ddf5a-5156-4cdd-a540-71dcbb78a902",
    "papermill": {
     "duration": 0.305271,
     "end_time": "2023-05-09T02:48:10.928620",
     "exception": false,
     "start_time": "2023-05-09T02:48:10.623349",
     "status": "completed"
    },
    "tags": []
   },
   "outputs": [
    {
     "data": {
      "text/plain": [
       "0"
      ]
     },
     "execution_count": 72,
     "metadata": {},
     "output_type": "execute_result"
    }
   ],
   "source": [
    "gc.collect()"
   ]
  },
  {
   "cell_type": "code",
   "execution_count": 73,
   "id": "71b3d584",
   "metadata": {
    "execution": {
     "iopub.execute_input": "2023-05-09T02:48:11.097951Z",
     "iopub.status.busy": "2023-05-09T02:48:11.097233Z",
     "iopub.status.idle": "2023-05-09T02:48:11.103224Z",
     "shell.execute_reply": "2023-05-09T02:48:11.102511Z"
    },
    "id": "d2IvkNzBo1KV",
    "papermill": {
     "duration": 0.09523,
     "end_time": "2023-05-09T02:48:11.105105",
     "exception": false,
     "start_time": "2023-05-09T02:48:11.009875",
     "status": "completed"
    },
    "tags": []
   },
   "outputs": [],
   "source": [
    "temp_df = pd.DataFrame(columns = [\"id\", \"terms\", \"prob\"])"
   ]
  },
  {
   "cell_type": "code",
   "execution_count": 74,
   "id": "156d7f90",
   "metadata": {
    "execution": {
     "iopub.execute_input": "2023-05-09T02:48:11.273194Z",
     "iopub.status.busy": "2023-05-09T02:48:11.272485Z",
     "iopub.status.idle": "2023-05-09T02:48:20.637780Z",
     "shell.execute_reply": "2023-05-09T02:48:20.636903Z"
    },
    "id": "oR4CQ7kvo4NM",
    "papermill": {
     "duration": 9.452353,
     "end_time": "2023-05-09T02:48:20.640044",
     "exception": false,
     "start_time": "2023-05-09T02:48:11.187691",
     "status": "completed"
    },
    "tags": []
   },
   "outputs": [],
   "source": [
    "temp_df[\"id\"] = [id_lst[i] for i in range(90000, 120000) for _ in range(1000)]"
   ]
  },
  {
   "cell_type": "code",
   "execution_count": 75,
   "id": "c506321e",
   "metadata": {
    "execution": {
     "iopub.execute_input": "2023-05-09T02:48:20.873882Z",
     "iopub.status.busy": "2023-05-09T02:48:20.873317Z",
     "iopub.status.idle": "2023-05-09T02:48:22.961221Z",
     "shell.execute_reply": "2023-05-09T02:48:22.960067Z"
    },
    "id": "RR0vMNoUo60H",
    "papermill": {
     "duration": 2.175799,
     "end_time": "2023-05-09T02:48:22.963615",
     "exception": false,
     "start_time": "2023-05-09T02:48:20.787816",
     "status": "completed"
    },
    "tags": []
   },
   "outputs": [],
   "source": [
    "temp_df[\"terms\"] = considered_one * 30000"
   ]
  },
  {
   "cell_type": "code",
   "execution_count": 76,
   "id": "9e8220aa",
   "metadata": {
    "execution": {
     "iopub.execute_input": "2023-05-09T02:48:23.130679Z",
     "iopub.status.busy": "2023-05-09T02:48:23.130049Z",
     "iopub.status.idle": "2023-05-09T02:48:27.042647Z",
     "shell.execute_reply": "2023-05-09T02:48:27.041423Z"
    },
    "id": "bGtLGxwipBAw",
    "papermill": {
     "duration": 3.998846,
     "end_time": "2023-05-09T02:48:27.045281",
     "exception": false,
     "start_time": "2023-05-09T02:48:23.046435",
     "status": "completed"
    },
    "tags": []
   },
   "outputs": [],
   "source": [
    "with open('prob_4.pickle', 'rb') as f:\n",
    "    prob_4 = pickle.load(f)"
   ]
  },
  {
   "cell_type": "code",
   "execution_count": 77,
   "id": "e204349f",
   "metadata": {
    "execution": {
     "iopub.execute_input": "2023-05-09T02:48:27.212907Z",
     "iopub.status.busy": "2023-05-09T02:48:27.212554Z",
     "iopub.status.idle": "2023-05-09T02:48:38.326740Z",
     "shell.execute_reply": "2023-05-09T02:48:38.325698Z"
    },
    "id": "yKWopSR0pESa",
    "papermill": {
     "duration": 11.200678,
     "end_time": "2023-05-09T02:48:38.329279",
     "exception": false,
     "start_time": "2023-05-09T02:48:27.128601",
     "status": "completed"
    },
    "tags": []
   },
   "outputs": [],
   "source": [
    "prob_4 = prob_4.toarray().ravel()"
   ]
  },
  {
   "cell_type": "code",
   "execution_count": 78,
   "id": "7c640f07",
   "metadata": {
    "execution": {
     "iopub.execute_input": "2023-05-09T02:48:38.495335Z",
     "iopub.status.busy": "2023-05-09T02:48:38.494801Z",
     "iopub.status.idle": "2023-05-09T02:48:38.708052Z",
     "shell.execute_reply": "2023-05-09T02:48:38.706978Z"
    },
    "id": "QDjmjc8_pQmg",
    "papermill": {
     "duration": 0.298808,
     "end_time": "2023-05-09T02:48:38.710372",
     "exception": false,
     "start_time": "2023-05-09T02:48:38.411564",
     "status": "completed"
    },
    "tags": []
   },
   "outputs": [],
   "source": [
    "temp_df[\"prob\"] = prob_4"
   ]
  },
  {
   "cell_type": "code",
   "execution_count": 79,
   "id": "91d532c0",
   "metadata": {
    "execution": {
     "iopub.execute_input": "2023-05-09T02:48:38.877388Z",
     "iopub.status.busy": "2023-05-09T02:48:38.876748Z",
     "iopub.status.idle": "2023-05-09T02:48:38.896355Z",
     "shell.execute_reply": "2023-05-09T02:48:38.895546Z"
    },
    "id": "NGbgTrFXpRJO",
    "papermill": {
     "duration": 0.105417,
     "end_time": "2023-05-09T02:48:38.898486",
     "exception": false,
     "start_time": "2023-05-09T02:48:38.793069",
     "status": "completed"
    },
    "tags": []
   },
   "outputs": [],
   "source": [
    "del prob_4"
   ]
  },
  {
   "cell_type": "code",
   "execution_count": 80,
   "id": "384f7be1",
   "metadata": {
    "execution": {
     "iopub.execute_input": "2023-05-09T02:48:39.065918Z",
     "iopub.status.busy": "2023-05-09T02:48:39.065266Z",
     "iopub.status.idle": "2023-05-09T02:48:41.592984Z",
     "shell.execute_reply": "2023-05-09T02:48:41.591917Z"
    },
    "id": "XO6k3JKNpSfc",
    "papermill": {
     "duration": 2.613594,
     "end_time": "2023-05-09T02:48:41.595298",
     "exception": false,
     "start_time": "2023-05-09T02:48:38.981704",
     "status": "completed"
    },
    "tags": []
   },
   "outputs": [],
   "source": [
    "temp_df = temp_df[temp_df[\"prob\"] >= 0.6]"
   ]
  },
  {
   "cell_type": "code",
   "execution_count": 81,
   "id": "78a35412",
   "metadata": {
    "execution": {
     "iopub.execute_input": "2023-05-09T02:48:41.762370Z",
     "iopub.status.busy": "2023-05-09T02:48:41.761751Z",
     "iopub.status.idle": "2023-05-09T02:48:41.767821Z",
     "shell.execute_reply": "2023-05-09T02:48:41.766781Z"
    },
    "id": "pIhnTP26pVWr",
    "outputId": "ca621bdf-f389-4725-be6b-6ab8fd88f1c7",
    "papermill": {
     "duration": 0.091584,
     "end_time": "2023-05-09T02:48:41.769827",
     "exception": false,
     "start_time": "2023-05-09T02:48:41.678243",
     "status": "completed"
    },
    "tags": []
   },
   "outputs": [
    {
     "data": {
      "text/plain": [
       "(643082, 3)"
      ]
     },
     "execution_count": 81,
     "metadata": {},
     "output_type": "execute_result"
    }
   ],
   "source": [
    "temp_df.shape"
   ]
  },
  {
   "cell_type": "code",
   "execution_count": 82,
   "id": "b2943a62",
   "metadata": {
    "execution": {
     "iopub.execute_input": "2023-05-09T02:48:41.937815Z",
     "iopub.status.busy": "2023-05-09T02:48:41.937114Z",
     "iopub.status.idle": "2023-05-09T02:48:42.146826Z",
     "shell.execute_reply": "2023-05-09T02:48:42.145823Z"
    },
    "id": "7mXpeFECpXga",
    "papermill": {
     "duration": 0.296764,
     "end_time": "2023-05-09T02:48:42.149286",
     "exception": false,
     "start_time": "2023-05-09T02:48:41.852522",
     "status": "completed"
    },
    "tags": []
   },
   "outputs": [],
   "source": [
    "final_df = pd.concat([final_df, temp_df])\n",
    "del temp_df\n",
    "final_df = final_df.reset_index().drop(\"index\", axis = 1)"
   ]
  },
  {
   "cell_type": "code",
   "execution_count": 83,
   "id": "0cc77d07",
   "metadata": {
    "execution": {
     "iopub.execute_input": "2023-05-09T02:48:42.319724Z",
     "iopub.status.busy": "2023-05-09T02:48:42.319311Z",
     "iopub.status.idle": "2023-05-09T02:48:42.537645Z",
     "shell.execute_reply": "2023-05-09T02:48:42.536562Z"
    },
    "id": "dtcvQrSkpZD4",
    "outputId": "e406f172-c947-4e59-c3e9-c683a23a1e40",
    "papermill": {
     "duration": 0.306488,
     "end_time": "2023-05-09T02:48:42.539834",
     "exception": false,
     "start_time": "2023-05-09T02:48:42.233346",
     "status": "completed"
    },
    "tags": []
   },
   "outputs": [
    {
     "data": {
      "text/plain": [
       "0"
      ]
     },
     "execution_count": 83,
     "metadata": {},
     "output_type": "execute_result"
    }
   ],
   "source": [
    "gc.collect()"
   ]
  },
  {
   "cell_type": "code",
   "execution_count": 84,
   "id": "6d08fa6f",
   "metadata": {
    "execution": {
     "iopub.execute_input": "2023-05-09T02:48:42.708849Z",
     "iopub.status.busy": "2023-05-09T02:48:42.708089Z",
     "iopub.status.idle": "2023-05-09T02:48:42.715291Z",
     "shell.execute_reply": "2023-05-09T02:48:42.714246Z"
    },
    "id": "qaMtDD0Tpab5",
    "papermill": {
     "duration": 0.094534,
     "end_time": "2023-05-09T02:48:42.717367",
     "exception": false,
     "start_time": "2023-05-09T02:48:42.622833",
     "status": "completed"
    },
    "tags": []
   },
   "outputs": [],
   "source": [
    "temp_df = pd.DataFrame(columns = [\"id\", \"terms\", \"prob\"])"
   ]
  },
  {
   "cell_type": "code",
   "execution_count": 85,
   "id": "6065ef42",
   "metadata": {
    "execution": {
     "iopub.execute_input": "2023-05-09T02:48:42.886080Z",
     "iopub.status.busy": "2023-05-09T02:48:42.885341Z",
     "iopub.status.idle": "2023-05-09T02:48:49.689113Z",
     "shell.execute_reply": "2023-05-09T02:48:49.688172Z"
    },
    "id": "E4SxchMkpebE",
    "papermill": {
     "duration": 6.891227,
     "end_time": "2023-05-09T02:48:49.691593",
     "exception": false,
     "start_time": "2023-05-09T02:48:42.800366",
     "status": "completed"
    },
    "tags": []
   },
   "outputs": [],
   "source": [
    "temp_df[\"id\"] = [id_lst[i] for i in range(120000, 141865) for _ in range(1000)]"
   ]
  },
  {
   "cell_type": "code",
   "execution_count": 86,
   "id": "86e2f0d3",
   "metadata": {
    "execution": {
     "iopub.execute_input": "2023-05-09T02:48:49.860224Z",
     "iopub.status.busy": "2023-05-09T02:48:49.859655Z",
     "iopub.status.idle": "2023-05-09T02:48:51.391526Z",
     "shell.execute_reply": "2023-05-09T02:48:51.390701Z"
    },
    "id": "DB8IyQfippwE",
    "papermill": {
     "duration": 1.619123,
     "end_time": "2023-05-09T02:48:51.393706",
     "exception": false,
     "start_time": "2023-05-09T02:48:49.774583",
     "status": "completed"
    },
    "tags": []
   },
   "outputs": [],
   "source": [
    "temp_df[\"terms\"] = considered_one * 21865"
   ]
  },
  {
   "cell_type": "code",
   "execution_count": 87,
   "id": "5e7cbf79",
   "metadata": {
    "execution": {
     "iopub.execute_input": "2023-05-09T02:48:51.560994Z",
     "iopub.status.busy": "2023-05-09T02:48:51.560422Z",
     "iopub.status.idle": "2023-05-09T02:48:54.317566Z",
     "shell.execute_reply": "2023-05-09T02:48:54.316770Z"
    },
    "id": "4an7t_KSpu-g",
    "papermill": {
     "duration": 2.843035,
     "end_time": "2023-05-09T02:48:54.319842",
     "exception": false,
     "start_time": "2023-05-09T02:48:51.476807",
     "status": "completed"
    },
    "tags": []
   },
   "outputs": [],
   "source": [
    "with open('prob_5.pickle', 'rb') as f:\n",
    "    prob_5 = pickle.load(f)"
   ]
  },
  {
   "cell_type": "code",
   "execution_count": 88,
   "id": "55845c3f",
   "metadata": {
    "execution": {
     "iopub.execute_input": "2023-05-09T02:48:54.487983Z",
     "iopub.status.busy": "2023-05-09T02:48:54.487370Z",
     "iopub.status.idle": "2023-05-09T02:49:02.825039Z",
     "shell.execute_reply": "2023-05-09T02:49:02.824097Z"
    },
    "id": "ZlmpWzxIpx_q",
    "papermill": {
     "duration": 8.424287,
     "end_time": "2023-05-09T02:49:02.827382",
     "exception": false,
     "start_time": "2023-05-09T02:48:54.403095",
     "status": "completed"
    },
    "tags": []
   },
   "outputs": [],
   "source": [
    "prob_5 = prob_5.toarray().ravel()"
   ]
  },
  {
   "cell_type": "code",
   "execution_count": 89,
   "id": "8e19b9dd",
   "metadata": {
    "execution": {
     "iopub.execute_input": "2023-05-09T02:49:02.996319Z",
     "iopub.status.busy": "2023-05-09T02:49:02.995743Z",
     "iopub.status.idle": "2023-05-09T02:49:03.144873Z",
     "shell.execute_reply": "2023-05-09T02:49:03.144110Z"
    },
    "id": "oDOKIughp1Du",
    "papermill": {
     "duration": 0.235176,
     "end_time": "2023-05-09T02:49:03.147045",
     "exception": false,
     "start_time": "2023-05-09T02:49:02.911869",
     "status": "completed"
    },
    "tags": []
   },
   "outputs": [],
   "source": [
    "temp_df[\"prob\"] = prob_5"
   ]
  },
  {
   "cell_type": "code",
   "execution_count": 90,
   "id": "f423785d",
   "metadata": {
    "execution": {
     "iopub.execute_input": "2023-05-09T02:49:03.314835Z",
     "iopub.status.busy": "2023-05-09T02:49:03.314227Z",
     "iopub.status.idle": "2023-05-09T02:49:03.329954Z",
     "shell.execute_reply": "2023-05-09T02:49:03.329124Z"
    },
    "id": "mXHi1-gnp5GU",
    "papermill": {
     "duration": 0.102211,
     "end_time": "2023-05-09T02:49:03.332166",
     "exception": false,
     "start_time": "2023-05-09T02:49:03.229955",
     "status": "completed"
    },
    "tags": []
   },
   "outputs": [],
   "source": [
    "del prob_5"
   ]
  },
  {
   "cell_type": "code",
   "execution_count": 91,
   "id": "433e8353",
   "metadata": {
    "execution": {
     "iopub.execute_input": "2023-05-09T02:49:03.500383Z",
     "iopub.status.busy": "2023-05-09T02:49:03.499786Z",
     "iopub.status.idle": "2023-05-09T02:49:05.360024Z",
     "shell.execute_reply": "2023-05-09T02:49:05.358894Z"
    },
    "id": "Ii5398zOp6pO",
    "papermill": {
     "duration": 1.947154,
     "end_time": "2023-05-09T02:49:05.362600",
     "exception": false,
     "start_time": "2023-05-09T02:49:03.415446",
     "status": "completed"
    },
    "tags": []
   },
   "outputs": [],
   "source": [
    "temp_df = temp_df[temp_df[\"prob\"] >= 0.6]"
   ]
  },
  {
   "cell_type": "code",
   "execution_count": 92,
   "id": "4ae59d7a",
   "metadata": {
    "execution": {
     "iopub.execute_input": "2023-05-09T02:49:05.533398Z",
     "iopub.status.busy": "2023-05-09T02:49:05.532785Z",
     "iopub.status.idle": "2023-05-09T02:49:05.538961Z",
     "shell.execute_reply": "2023-05-09T02:49:05.538147Z"
    },
    "id": "oznOEirkp8GM",
    "outputId": "f2b86edf-2c96-45d6-8dab-267e4ca7287c",
    "papermill": {
     "duration": 0.09408,
     "end_time": "2023-05-09T02:49:05.540862",
     "exception": false,
     "start_time": "2023-05-09T02:49:05.446782",
     "status": "completed"
    },
    "tags": []
   },
   "outputs": [
    {
     "data": {
      "text/plain": [
       "(474137, 3)"
      ]
     },
     "execution_count": 92,
     "metadata": {},
     "output_type": "execute_result"
    }
   ],
   "source": [
    "temp_df.shape"
   ]
  },
  {
   "cell_type": "code",
   "execution_count": 93,
   "id": "1b001d63",
   "metadata": {
    "execution": {
     "iopub.execute_input": "2023-05-09T02:49:05.709516Z",
     "iopub.status.busy": "2023-05-09T02:49:05.708906Z",
     "iopub.status.idle": "2023-05-09T02:49:05.949165Z",
     "shell.execute_reply": "2023-05-09T02:49:05.948296Z"
    },
    "id": "S-ZYkH2cp9T9",
    "papermill": {
     "duration": 0.327654,
     "end_time": "2023-05-09T02:49:05.951579",
     "exception": false,
     "start_time": "2023-05-09T02:49:05.623925",
     "status": "completed"
    },
    "tags": []
   },
   "outputs": [],
   "source": [
    "final_df = pd.concat([final_df, temp_df])\n",
    "del temp_df\n",
    "final_df = final_df.reset_index().drop(\"index\", axis = 1)"
   ]
  },
  {
   "cell_type": "code",
   "execution_count": 94,
   "id": "cd4c32e2",
   "metadata": {
    "execution": {
     "iopub.execute_input": "2023-05-09T02:49:06.137205Z",
     "iopub.status.busy": "2023-05-09T02:49:06.136752Z",
     "iopub.status.idle": "2023-05-09T02:49:06.142734Z",
     "shell.execute_reply": "2023-05-09T02:49:06.142026Z"
    },
    "id": "FCFQ6Sc4p_B_",
    "outputId": "5ce68ced-aa6f-42ff-caf3-d496ceb4a676",
    "papermill": {
     "duration": 0.10992,
     "end_time": "2023-05-09T02:49:06.145671",
     "exception": false,
     "start_time": "2023-05-09T02:49:06.035751",
     "status": "completed"
    },
    "tags": []
   },
   "outputs": [
    {
     "data": {
      "text/plain": [
       "(3262524, 3)"
      ]
     },
     "execution_count": 94,
     "metadata": {},
     "output_type": "execute_result"
    }
   ],
   "source": [
    "final_df.shape"
   ]
  },
  {
   "cell_type": "code",
   "execution_count": 95,
   "id": "047badc9",
   "metadata": {
    "execution": {
     "iopub.execute_input": "2023-05-09T02:49:06.324634Z",
     "iopub.status.busy": "2023-05-09T02:49:06.323594Z",
     "iopub.status.idle": "2023-05-09T02:49:15.008210Z",
     "shell.execute_reply": "2023-05-09T02:49:15.007034Z"
    },
    "id": "Hrc647aQp_nP",
    "papermill": {
     "duration": 8.777559,
     "end_time": "2023-05-09T02:49:15.010949",
     "exception": false,
     "start_time": "2023-05-09T02:49:06.233390",
     "status": "completed"
    },
    "tags": []
   },
   "outputs": [],
   "source": [
    "# make the submission\n",
    "final_df.to_csv(\".../submission.tsv\", index = False, sep = \"\\t\")"
   ]
  }
 ],
 "metadata": {
  "kernelspec": {
   "display_name": "Python 3",
   "language": "python",
   "name": "python3"
  },
  "language_info": {
   "codemirror_mode": {
    "name": "ipython",
    "version": 3
   },
   "file_extension": ".py",
   "mimetype": "text/x-python",
   "name": "python",
   "nbconvert_exporter": "python",
   "pygments_lexer": "ipython3",
   "version": "3.11.2"
  },
  "papermill": {
   "default_parameters": {},
   "duration": 711.580177,
   "end_time": "2023-05-09T02:49:16.821451",
   "environment_variables": {},
   "exception": null,
   "input_path": "__notebook__.ipynb",
   "output_path": "__notebook__.ipynb",
   "parameters": {},
   "start_time": "2023-05-09T02:37:25.241274",
   "version": "2.4.0"
  },
  "vscode": {
   "interpreter": {
    "hash": "aee8b7b246df8f9039afb4144a1f6fd8d2ca17a180786b69acc140d282b71a49"
   }
  }
 },
 "nbformat": 4,
 "nbformat_minor": 5
}
